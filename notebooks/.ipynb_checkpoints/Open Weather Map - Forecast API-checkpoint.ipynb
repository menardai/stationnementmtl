{
 "cells": [
  {
   "cell_type": "markdown",
   "metadata": {},
   "source": [
    "# Open Weather Map - API\n",
    "### PyOWM - A Python wrapper around the OpenWeatherMap API   \n",
    "### install: pip install pyowm"
   ]
  },
  {
   "cell_type": "code",
   "execution_count": 1,
   "metadata": {},
   "outputs": [],
   "source": [
    "import datetime\n",
    "import json\n",
    "\n",
    "import pyowm"
   ]
  },
  {
   "cell_type": "code",
   "execution_count": 2,
   "metadata": {},
   "outputs": [],
   "source": [
    "# get a handler using my api key\n",
    "owm = pyowm.OWM('1dc779244c89ccffd3d0d0cda8f3a664')"
   ]
  },
  {
   "cell_type": "markdown",
   "metadata": {},
   "source": [
    "---"
   ]
  },
  {
   "cell_type": "code",
   "execution_count": 3,
   "metadata": {},
   "outputs": [
    {
     "name": "stdout",
     "output_type": "stream",
     "text": [
      "<pyowm.webapi25.weather.Weather - reference time=2018-11-07 20:43:00+00, status=rain, detailed status=light intensity shower rain>\n"
     ]
    }
   ],
   "source": [
    "# Search for current weather in London (Great Britain)\n",
    "observation = owm.weather_at_place('Montreal,CA')\n",
    "w = observation.get_weather()\n",
    "print(w)"
   ]
  },
  {
   "cell_type": "code",
   "execution_count": 4,
   "metadata": {},
   "outputs": [
    {
     "name": "stdout",
     "output_type": "stream",
     "text": [
      "hour = 2018-11-07 20:43:00+00:00\n",
      "temperature = 8.65\n"
     ]
    }
   ],
   "source": [
    "# Weather details\n",
    "w.get_wind()                  # {'speed': 4.6, 'deg': 330}\n",
    "w.get_humidity()              # 87\n",
    "print('hour = {}'.format(w.get_reference_time('date')))\n",
    "print('temperature = {}'.format(w.get_temperature('celsius')['temp']))  # {'temp_max': 10.5, 'temp': 9.7, 'temp_min': 9.0}"
   ]
  },
  {
   "cell_type": "markdown",
   "metadata": {},
   "source": [
    "---"
   ]
  },
  {
   "cell_type": "markdown",
   "metadata": {},
   "source": [
    "# Forecast for the next 5 days, at every 3 hours"
   ]
  },
  {
   "cell_type": "code",
   "execution_count": 77,
   "metadata": {},
   "outputs": [
    {
     "name": "stdout",
     "output_type": "stream",
     "text": [
      "2018-09-21 17:00:00+00:00 25.44 Rain {'3h': 0.0050000000000008}\n",
      "2018-09-21 20:00:00+00:00 22.26 Rain {'3h': 2.525}\n",
      "2018-09-21 23:00:00+00:00 20.38 Rain {'3h': 9}\n",
      "2018-09-22 02:00:00+00:00 18.0 Rain {'3h': 0.045000000000002}\n",
      "2018-09-22 05:00:00+00:00 12.94 Rain {'3h': 0.31}\n",
      "2018-09-22 08:00:00+00:00 10.61 Clear {}\n",
      "2018-09-22 11:00:00+00:00 13.2 Clear {}\n",
      "2018-09-22 14:00:00+00:00 15.16 Clear {}\n",
      "2018-09-22 17:00:00+00:00 15.44 Clear {}\n",
      "2018-09-22 20:00:00+00:00 10.91 Clear {}\n",
      "2018-09-22 23:00:00+00:00 7.82 Clear {}\n",
      "2018-09-23 02:00:00+00:00 6.1 Clear {}\n",
      "2018-09-23 05:00:00+00:00 6.82 Rain {'3h': 0.004999999999999}\n",
      "2018-09-23 08:00:00+00:00 8.71 Clouds {}\n",
      "2018-09-23 11:00:00+00:00 13.5 Clouds {}\n",
      "2018-09-23 14:00:00+00:00 15.46 Clouds {}\n",
      "2018-09-23 17:00:00+00:00 14.35 Clouds {}\n",
      "2018-09-23 20:00:00+00:00 10.59 Clouds {}\n",
      "2018-09-23 23:00:00+00:00 6.1 Clear {}\n",
      "2018-09-24 02:00:00+00:00 3.4 Clear {}\n",
      "2018-09-24 05:00:00+00:00 1.92 Clouds {}\n",
      "2018-09-24 08:00:00+00:00 2.81 Clear {}\n",
      "2018-09-24 11:00:00+00:00 8.39 Clear {}\n",
      "2018-09-24 14:00:00+00:00 10.67 Clear {}\n",
      "2018-09-24 17:00:00+00:00 11.26 Clear {}\n",
      "2018-09-24 20:00:00+00:00 7.31 Clear {}\n",
      "2018-09-24 23:00:00+00:00 6.32 Clouds {}\n",
      "2018-09-25 02:00:00+00:00 5.3 Clear {}\n",
      "2018-09-25 05:00:00+00:00 6.25 Clear {}\n",
      "2018-09-25 08:00:00+00:00 8.93 Clouds {}\n",
      "2018-09-25 11:00:00+00:00 13.95 Clouds {}\n",
      "2018-09-25 14:00:00+00:00 16.26 Clouds {}\n",
      "2018-09-25 17:00:00+00:00 14.31 Rain {'3h': 0.72}\n",
      "2018-09-25 20:00:00+00:00 14.72 Rain {'3h': 2.32}\n",
      "2018-09-25 23:00:00+00:00 15.16 Rain {'3h': 6.53}\n",
      "2018-09-26 02:00:00+00:00 15.61 Rain {'3h': 8.97}\n",
      "2018-09-26 05:00:00+00:00 16.44 Rain {'3h': 6.27}\n",
      "2018-09-26 08:00:00+00:00 17.75 Rain {'3h': 1.73}\n",
      "2018-09-26 11:00:00+00:00 20.17 Rain {'3h': 0.030000000000001}\n",
      "2018-09-26 14:00:00+00:00 20.33 Clouds {}\n"
     ]
    }
   ],
   "source": [
    "fcst = owm.three_hours_forecast('Montreal,CA')\n",
    "for weather in fcst.get_forecast():\n",
    "    date = weather.get_reference_time(timeformat='date') - datetime.timedelta(hours=4)\n",
    "    print (date, weather.get_temperature('celsius')['temp'], weather.get_status(), weather.get_rain())"
   ]
  },
  {
   "cell_type": "markdown",
   "metadata": {},
   "source": [
    "# Extract info of the next 24 hours"
   ]
  },
  {
   "cell_type": "code",
   "execution_count": 14,
   "metadata": {},
   "outputs": [
    {
     "name": "stdout",
     "output_type": "stream",
     "text": [
      "17 24.29 Rain 0.0050000000000008\n",
      "20 21.5 Rain 2.525\n",
      "23 20.02 Rain 9\n",
      "2 18.04 Rain 0.045000000000002\n",
      "5 12.94 Rain 0.31\n",
      "8 10.61 Clear 0\n",
      "11 13.2 Clear 0\n",
      "14 15.16 Clear 0\n",
      "-------------------------------\n",
      "{'date': '2018-09-21 16:18', 'day_precipitation_mm': 11.885000000000003, 'hourly_temp': {17: 24.29, 18: 24.29, 19: 24.29, 20: 21.5, 21: 21.5, 22: 21.5, 23: 20.02, 24: 20.02, 1: 20.02, 2: 18.04, 3: 18.04, 4: 18.04, 5: 12.94, 6: 12.94, 7: 12.94, 8: 10.61, 9: 10.61, 10: 10.61, 11: 13.2, 12: 13.2, 13: 13.2, 14: 15.16, 15: 15.16, 16: 15.16}}\n"
     ]
    }
   ],
   "source": [
    "result = {\n",
    "    \"date\": datetime.datetime.now().strftime('%Y-%m-%d %H:%M'),\n",
    "    \"day_precipitation_mm\": 0,\n",
    "    \"hourly_temp\": {}\n",
    "}\n",
    "\n",
    "# get forecast of the next 5 days\n",
    "fcst = owm.three_hours_forecast('Montreal,CA')\n",
    "forecast = fcst.get_forecast()\n",
    "\n",
    "# parse the next 24 hours (8 x 3 hours)\n",
    "for i in range(8):\n",
    "    weather = forecast.get(i)\n",
    "    \n",
    "    # get time and temperature for this weather forecast object\n",
    "    temp = weather.get_temperature('celsius')['temp']\n",
    "    date = weather.get_reference_time(timeformat='date') - datetime.timedelta(hours=4)    \n",
    "        \n",
    "    # compute total day precipitation\n",
    "    precipitation_mm = 0\n",
    "    status = weather.get_status()\n",
    "    if status == 'Rain':\n",
    "        precipitation_mm = weather.get_rain()['3h']\n",
    "    if status == 'Snow':\n",
    "        precipitation_mm = weather.get_snow()['3h']\n",
    "    result[\"day_precipitation_mm\"] += precipitation_mm\n",
    "\n",
    "    # fill hourly temperature array\n",
    "    h = date.hour\n",
    "    result[\"hourly_temp\"][h] = temp\n",
    "    h += 1\n",
    "    result[\"hourly_temp\"][h if h <= 24 else (h - 24)] = temp\n",
    "    h += 1    \n",
    "    result[\"hourly_temp\"][h if h <= 24 else (h - 24)] = temp\n",
    "    \n",
    "    print (date.hour, temp, status, precipitation_mm)\n",
    "    \n",
    "print('-------------------------------')\n",
    "print(result)\n",
    "\n",
    "with open('weather.json', 'w') as outfile:\n",
    "    json.dump(result, outfile)"
   ]
  },
  {
   "cell_type": "code",
   "execution_count": null,
   "metadata": {},
   "outputs": [],
   "source": []
  },
  {
   "cell_type": "code",
   "execution_count": null,
   "metadata": {},
   "outputs": [],
   "source": []
  },
  {
   "cell_type": "code",
   "execution_count": null,
   "metadata": {},
   "outputs": [],
   "source": []
  },
  {
   "cell_type": "markdown",
   "metadata": {},
   "source": [
    "---"
   ]
  }
 ],
 "metadata": {
  "kernelspec": {
   "display_name": "Python 3",
   "language": "python",
   "name": "python3"
  },
  "language_info": {
   "codemirror_mode": {
    "name": "ipython",
    "version": 3
   },
   "file_extension": ".py",
   "mimetype": "text/x-python",
   "name": "python",
   "nbconvert_exporter": "python",
   "pygments_lexer": "ipython3",
   "version": "3.6.5"
  }
 },
 "nbformat": 4,
 "nbformat_minor": 2
}
