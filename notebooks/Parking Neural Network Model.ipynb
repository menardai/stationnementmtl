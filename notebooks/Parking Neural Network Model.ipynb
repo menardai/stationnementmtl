{
 "cells": [
  {
   "cell_type": "markdown",
   "metadata": {},
   "source": [
    "# Parking Neural Network"
   ]
  },
  {
   "cell_type": "markdown",
   "metadata": {},
   "source": [
    "---"
   ]
  },
  {
   "cell_type": "code",
   "execution_count": 1,
   "metadata": {},
   "outputs": [
    {
     "name": "stderr",
     "output_type": "stream",
     "text": [
      "/home/ai/anaconda3/envs/keras_tensorflow_gpu/lib/python3.6/site-packages/h5py/__init__.py:36: FutureWarning: Conversion of the second argument of issubdtype from `float` to `np.floating` is deprecated. In future, it will be treated as `np.float64 == np.dtype(float).type`.\n",
      "  from ._conv import register_converters as _register_converters\n",
      "Using TensorFlow backend.\n",
      "/home/ai/anaconda3/envs/keras_tensorflow_gpu/lib/python3.6/importlib/_bootstrap.py:219: RuntimeWarning: compiletime version 3.5 of module 'tensorflow.python.framework.fast_tensor_util' does not match runtime version 3.6\n",
      "  return f(*args, **kwds)\n"
     ]
    }
   ],
   "source": [
    "import numpy as np\n",
    "import pandas as pd\n",
    "\n",
    "import keras.backend as K\n",
    "\n",
    "from keras.models import Sequential\n",
    "from keras.layers import Dense\n",
    "from keras import optimizers\n",
    "\n",
    "from sklearn.preprocessing import StandardScaler"
   ]
  },
  {
   "cell_type": "markdown",
   "metadata": {},
   "source": [
    "# Building data set"
   ]
  },
  {
   "cell_type": "code",
   "execution_count": 17,
   "metadata": {},
   "outputs": [],
   "source": [
    "# Importing the dataset\n",
    "dataset = pd.read_csv('../training_set.csv', sep=';')"
   ]
  },
  {
   "cell_type": "code",
   "execution_count": 18,
   "metadata": {},
   "outputs": [
    {
     "data": {
      "text/html": [
       "<div>\n",
       "<style scoped>\n",
       "    .dataframe tbody tr th:only-of-type {\n",
       "        vertical-align: middle;\n",
       "    }\n",
       "\n",
       "    .dataframe tbody tr th {\n",
       "        vertical-align: top;\n",
       "    }\n",
       "\n",
       "    .dataframe thead th {\n",
       "        text-align: right;\n",
       "    }\n",
       "</style>\n",
       "<table border=\"1\" class=\"dataframe\">\n",
       "  <thead>\n",
       "    <tr style=\"text-align: right;\">\n",
       "      <th></th>\n",
       "      <th>NoTroncon</th>\n",
       "      <th>DateCreation</th>\n",
       "      <th>DayOfYear</th>\n",
       "      <th>DayOfWeek</th>\n",
       "      <th>NoHeure</th>\n",
       "      <th>TxOccupation</th>\n",
       "      <th>CenterLongitude</th>\n",
       "      <th>CenterLatitude</th>\n",
       "      <th>EmplacementCount</th>\n",
       "      <th>Temp</th>\n",
       "      <th>Precip_total_day_mm</th>\n",
       "    </tr>\n",
       "  </thead>\n",
       "  <tbody>\n",
       "    <tr>\n",
       "      <th>0</th>\n",
       "      <td>1</td>\n",
       "      <td>2015-01-02</td>\n",
       "      <td>2</td>\n",
       "      <td>4</td>\n",
       "      <td>9</td>\n",
       "      <td>0.0000</td>\n",
       "      <td>-73.570339</td>\n",
       "      <td>45.507996</td>\n",
       "      <td>17</td>\n",
       "      <td>-11.0</td>\n",
       "      <td>0.1</td>\n",
       "    </tr>\n",
       "    <tr>\n",
       "      <th>1</th>\n",
       "      <td>1</td>\n",
       "      <td>2015-01-02</td>\n",
       "      <td>2</td>\n",
       "      <td>4</td>\n",
       "      <td>10</td>\n",
       "      <td>0.0000</td>\n",
       "      <td>-73.570339</td>\n",
       "      <td>45.507996</td>\n",
       "      <td>17</td>\n",
       "      <td>-11.0</td>\n",
       "      <td>0.1</td>\n",
       "    </tr>\n",
       "    <tr>\n",
       "      <th>2</th>\n",
       "      <td>1</td>\n",
       "      <td>2015-01-02</td>\n",
       "      <td>2</td>\n",
       "      <td>4</td>\n",
       "      <td>11</td>\n",
       "      <td>0.0000</td>\n",
       "      <td>-73.570339</td>\n",
       "      <td>45.507996</td>\n",
       "      <td>17</td>\n",
       "      <td>-11.0</td>\n",
       "      <td>0.1</td>\n",
       "    </tr>\n",
       "    <tr>\n",
       "      <th>3</th>\n",
       "      <td>1</td>\n",
       "      <td>2015-01-02</td>\n",
       "      <td>2</td>\n",
       "      <td>4</td>\n",
       "      <td>12</td>\n",
       "      <td>0.0510</td>\n",
       "      <td>-73.570339</td>\n",
       "      <td>45.507996</td>\n",
       "      <td>17</td>\n",
       "      <td>-10.0</td>\n",
       "      <td>0.1</td>\n",
       "    </tr>\n",
       "    <tr>\n",
       "      <th>4</th>\n",
       "      <td>1</td>\n",
       "      <td>2015-01-02</td>\n",
       "      <td>2</td>\n",
       "      <td>4</td>\n",
       "      <td>13</td>\n",
       "      <td>0.0588</td>\n",
       "      <td>-73.570339</td>\n",
       "      <td>45.507996</td>\n",
       "      <td>17</td>\n",
       "      <td>-12.0</td>\n",
       "      <td>0.1</td>\n",
       "    </tr>\n",
       "  </tbody>\n",
       "</table>\n",
       "</div>"
      ],
      "text/plain": [
       "   NoTroncon DateCreation  DayOfYear  DayOfWeek  NoHeure  TxOccupation  \\\n",
       "0          1   2015-01-02          2          4        9        0.0000   \n",
       "1          1   2015-01-02          2          4       10        0.0000   \n",
       "2          1   2015-01-02          2          4       11        0.0000   \n",
       "3          1   2015-01-02          2          4       12        0.0510   \n",
       "4          1   2015-01-02          2          4       13        0.0588   \n",
       "\n",
       "   CenterLongitude  CenterLatitude  EmplacementCount  Temp  \\\n",
       "0       -73.570339       45.507996                17 -11.0   \n",
       "1       -73.570339       45.507996                17 -11.0   \n",
       "2       -73.570339       45.507996                17 -11.0   \n",
       "3       -73.570339       45.507996                17 -10.0   \n",
       "4       -73.570339       45.507996                17 -12.0   \n",
       "\n",
       "   Precip_total_day_mm  \n",
       "0                  0.1  \n",
       "1                  0.1  \n",
       "2                  0.1  \n",
       "3                  0.1  \n",
       "4                  0.1  "
      ]
     },
     "execution_count": 18,
     "metadata": {},
     "output_type": "execute_result"
    }
   ],
   "source": [
    "dataset.head()"
   ]
  },
  {
   "cell_type": "code",
   "execution_count": 19,
   "metadata": {},
   "outputs": [
    {
     "name": "stdout",
     "output_type": "stream",
     "text": [
      "<class 'pandas.core.frame.DataFrame'>\n",
      "RangeIndex: 1153852 entries, 0 to 1153851\n",
      "Data columns (total 11 columns):\n",
      "NoTroncon              1153852 non-null int64\n",
      "DateCreation           1153852 non-null object\n",
      "DayOfYear              1153852 non-null int64\n",
      "DayOfWeek              1153852 non-null int64\n",
      "NoHeure                1153852 non-null int64\n",
      "TxOccupation           1153852 non-null float64\n",
      "CenterLongitude        1153852 non-null float64\n",
      "CenterLatitude         1153852 non-null float64\n",
      "EmplacementCount       1153852 non-null int64\n",
      "Temp                   1153852 non-null float64\n",
      "Precip_total_day_mm    1153852 non-null float64\n",
      "dtypes: float64(5), int64(5), object(1)\n",
      "memory usage: 96.8+ MB\n"
     ]
    }
   ],
   "source": [
    "dataset.info()"
   ]
  },
  {
   "cell_type": "markdown",
   "metadata": {},
   "source": [
    "## Building training matrix X and Y"
   ]
  },
  {
   "cell_type": "code",
   "execution_count": 20,
   "metadata": {},
   "outputs": [],
   "source": [
    "Y_train = dataset['TxOccupation'].values\n",
    "dataset.drop('TxOccupation', 1, inplace=True)\n",
    "\n",
    "X_train = dataset.iloc[:, 2:8].values"
   ]
  },
  {
   "cell_type": "code",
   "execution_count": 21,
   "metadata": {},
   "outputs": [
    {
     "name": "stdout",
     "output_type": "stream",
     "text": [
      "[[  2.         4.         9.       -73.570339  45.507996  17.      ]\n",
      " [  2.         4.        10.       -73.570339  45.507996  17.      ]\n",
      " [  2.         4.        11.       -73.570339  45.507996  17.      ]\n",
      " ...\n",
      " [366.         5.        15.       -73.569645  45.512401   2.      ]\n",
      " [366.         5.        16.       -73.569645  45.512401   2.      ]\n",
      " [366.         5.        17.       -73.569645  45.512401   2.      ]]\n"
     ]
    }
   ],
   "source": [
    "print(X_train)"
   ]
  },
  {
   "cell_type": "markdown",
   "metadata": {},
   "source": [
    "## Features scaling"
   ]
  },
  {
   "cell_type": "code",
   "execution_count": 22,
   "metadata": {},
   "outputs": [],
   "source": [
    "sc = StandardScaler()\n",
    "\n",
    "X_train = sc.fit_transform(X_train)"
   ]
  },
  {
   "cell_type": "code",
   "execution_count": 23,
   "metadata": {},
   "outputs": [
    {
     "name": "stdout",
     "output_type": "stream",
     "text": [
      "[[-1.70695075  0.72127126 -1.5835974  -1.40756526 -0.70498352  1.05272921]\n",
      " [-1.70695075  0.72127126 -1.28398011 -1.40756526 -0.70498352  1.05272921]\n",
      " [-1.70695075  0.72127126 -0.98436282 -1.40756526 -0.70498352  1.05272921]\n",
      " ...\n",
      " [ 1.71599998  1.26119268  0.21410635 -1.21645947  0.58374324 -1.27177442]\n",
      " [ 1.71599998  1.26119268  0.51372364 -1.21645947  0.58374324 -1.27177442]\n",
      " [ 1.71599998  1.26119268  0.81334093 -1.21645947  0.58374324 -1.27177442]]\n"
     ]
    }
   ],
   "source": [
    "print(X_train)"
   ]
  },
  {
   "cell_type": "code",
   "execution_count": 24,
   "metadata": {},
   "outputs": [
    {
     "name": "stdout",
     "output_type": "stream",
     "text": [
      "[183.51884817   2.6641181   14.28540055 -73.56522743  45.51040571\n",
      "  10.20674835]\n"
     ]
    }
   ],
   "source": [
    "print(sc.mean_)"
   ]
  },
  {
   "cell_type": "code",
   "execution_count": 25,
   "metadata": {},
   "outputs": [
    {
     "name": "stdout",
     "output_type": "stream",
     "text": [
      "Longitude mean =  -73.56522743172778\n",
      "Latitude mean =  45.51040570584876\n",
      "Parking spot per section mean =  10.206748352475014\n"
     ]
    }
   ],
   "source": [
    "print(\"Longitude mean = \", sc.mean_[3])\n",
    "print(\"Latitude mean = \", sc.mean_[4])\n",
    "print(\"Parking spot per section mean = \", sc.mean_[5])"
   ]
  },
  {
   "cell_type": "code",
   "execution_count": 26,
   "metadata": {},
   "outputs": [
    {
     "name": "stdout",
     "output_type": "stream",
     "text": [
      "Training matrix minimum value: {} -1.974401332184225\n",
      "Training matrix maximum value: {} 4.307034294017197\n"
     ]
    }
   ],
   "source": [
    "print('Training matrix minimum value: {}', np.min(X_train))\n",
    "print('Training matrix maximum value: {}', np.max(X_train))"
   ]
  },
  {
   "cell_type": "markdown",
   "metadata": {},
   "source": [
    "# Making the Neural Network Model (ANN)"
   ]
  },
  {
   "cell_type": "code",
   "execution_count": 27,
   "metadata": {},
   "outputs": [],
   "source": [
    "# Initialising the ANN\n",
    "classifier = Sequential()\n",
    "\n",
    "# Adding the input layer and the first hidden layer\n",
    "classifier.add(Dense(units = 200, kernel_initializer = 'uniform', activation = 'relu', input_dim = 6))\n",
    "\n",
    "classifier.add(Dense(units = 200, kernel_initializer = 'uniform', activation = 'relu'))\n",
    "classifier.add(Dense(units = 200, kernel_initializer = 'uniform', activation = 'relu'))\n",
    "\n",
    "# Adding the output layer\n",
    "classifier.add(Dense(units = 1, kernel_initializer = 'uniform', activation = 'sigmoid'))"
   ]
  },
  {
   "cell_type": "code",
   "execution_count": 28,
   "metadata": {},
   "outputs": [],
   "source": [
    "def threshold_accuracy(y_true, y_pred, threshold=0.10):\n",
    "    return K.mean(K.abs(y_true - y_pred) < threshold, axis=-1)"
   ]
  },
  {
   "cell_type": "code",
   "execution_count": 29,
   "metadata": {},
   "outputs": [],
   "source": [
    "# Compiling the ANN\n",
    "adam = optimizers.Adam(lr=0.001)\n",
    "classifier.compile(optimizer = adam, loss = 'mse', metrics=[threshold_accuracy])"
   ]
  },
  {
   "cell_type": "code",
   "execution_count": 30,
   "metadata": {},
   "outputs": [
    {
     "name": "stdout",
     "output_type": "stream",
     "text": [
      "_________________________________________________________________\n",
      "Layer (type)                 Output Shape              Param #   \n",
      "=================================================================\n",
      "dense_5_input (InputLayer)   (None, 6)                 0         \n",
      "_________________________________________________________________\n",
      "dense_5 (Dense)              (None, 200)               1400      \n",
      "_________________________________________________________________\n",
      "dense_6 (Dense)              (None, 200)               40200     \n",
      "_________________________________________________________________\n",
      "dense_7 (Dense)              (None, 200)               40200     \n",
      "_________________________________________________________________\n",
      "dense_8 (Dense)              (None, 1)                 201       \n",
      "=================================================================\n",
      "Total params: 82,001\n",
      "Trainable params: 82,001\n",
      "Non-trainable params: 0\n",
      "_________________________________________________________________\n"
     ]
    }
   ],
   "source": [
    "classifier.model.summary()"
   ]
  },
  {
   "cell_type": "markdown",
   "metadata": {},
   "source": [
    "# Fitting the ANN to the training set"
   ]
  },
  {
   "cell_type": "code",
   "execution_count": 31,
   "metadata": {},
   "outputs": [
    {
     "name": "stdout",
     "output_type": "stream",
     "text": [
      "Epoch 1/50\n",
      "1153852/1153852 [==============================] - 1s - loss: 0.1127 - threshold_accuracy: 0.1674     \n",
      "Epoch 2/50\n",
      "1153852/1153852 [==============================] - 0s - loss: 0.0971 - threshold_accuracy: 0.2007     \n",
      "Epoch 3/50\n",
      "1153852/1153852 [==============================] - 0s - loss: 0.0908 - threshold_accuracy: 0.2160     \n",
      "Epoch 4/50\n",
      "1153852/1153852 [==============================] - 0s - loss: 0.0850 - threshold_accuracy: 0.2333     \n",
      "Epoch 5/50\n",
      "1153852/1153852 [==============================] - 0s - loss: 0.0813 - threshold_accuracy: 0.2528     \n",
      "Epoch 6/50\n",
      "1153852/1153852 [==============================] - 0s - loss: 0.0789 - threshold_accuracy: 0.2684     \n",
      "Epoch 7/50\n",
      "1153852/1153852 [==============================] - 0s - loss: 0.0773 - threshold_accuracy: 0.2779     \n",
      "Epoch 8/50\n",
      "1153852/1153852 [==============================] - 0s - loss: 0.0760 - threshold_accuracy: 0.2843     \n",
      "Epoch 9/50\n",
      "1153852/1153852 [==============================] - 0s - loss: 0.0754 - threshold_accuracy: 0.2885     \n",
      "Epoch 10/50\n",
      "1153852/1153852 [==============================] - 0s - loss: 0.0743 - threshold_accuracy: 0.2930     \n",
      "Epoch 11/50\n",
      "1153852/1153852 [==============================] - 0s - loss: 0.0739 - threshold_accuracy: 0.2966     \n",
      "Epoch 12/50\n",
      "1153852/1153852 [==============================] - 0s - loss: 0.0734 - threshold_accuracy: 0.2987     \n",
      "Epoch 13/50\n",
      "1153852/1153852 [==============================] - 0s - loss: 0.0727 - threshold_accuracy: 0.3013     \n",
      "Epoch 14/50\n",
      "1153852/1153852 [==============================] - 0s - loss: 0.0723 - threshold_accuracy: 0.3032     \n",
      "Epoch 15/50\n",
      "1153852/1153852 [==============================] - 0s - loss: 0.0722 - threshold_accuracy: 0.3049     \n",
      "Epoch 16/50\n",
      "1153852/1153852 [==============================] - 0s - loss: 0.0713 - threshold_accuracy: 0.3071     \n",
      "Epoch 17/50\n",
      "1153852/1153852 [==============================] - 0s - loss: 0.0715 - threshold_accuracy: 0.3082     \n",
      "Epoch 18/50\n",
      "1153852/1153852 [==============================] - 0s - loss: 0.0710 - threshold_accuracy: 0.3098     \n",
      "Epoch 19/50\n",
      "1153852/1153852 [==============================] - 0s - loss: 0.0708 - threshold_accuracy: 0.3110     \n",
      "Epoch 20/50\n",
      "1153852/1153852 [==============================] - 0s - loss: 0.0703 - threshold_accuracy: 0.3123     \n",
      "Epoch 21/50\n",
      "1153852/1153852 [==============================] - 0s - loss: 0.0700 - threshold_accuracy: 0.3136     \n",
      "Epoch 22/50\n",
      "1153852/1153852 [==============================] - 0s - loss: 0.0698 - threshold_accuracy: 0.3145     \n",
      "Epoch 23/50\n",
      "1153852/1153852 [==============================] - 0s - loss: 0.0697 - threshold_accuracy: 0.3156     \n",
      "Epoch 24/50\n",
      "1153852/1153852 [==============================] - 0s - loss: 0.0694 - threshold_accuracy: 0.3161     \n",
      "Epoch 25/50\n",
      "1153852/1153852 [==============================] - 0s - loss: 0.0698 - threshold_accuracy: 0.3165     \n",
      "Epoch 26/50\n",
      "1153852/1153852 [==============================] - 0s - loss: 0.0688 - threshold_accuracy: 0.3179     \n",
      "Epoch 27/50\n",
      "1153852/1153852 [==============================] - 0s - loss: 0.0686 - threshold_accuracy: 0.3192     \n",
      "Epoch 28/50\n",
      "1153852/1153852 [==============================] - 0s - loss: 0.0686 - threshold_accuracy: 0.3198     \n",
      "Epoch 29/50\n",
      "1153852/1153852 [==============================] - 0s - loss: 0.0686 - threshold_accuracy: 0.3204     \n",
      "Epoch 30/50\n",
      "1153852/1153852 [==============================] - 0s - loss: 0.0686 - threshold_accuracy: 0.3210     \n",
      "Epoch 31/50\n",
      "1153852/1153852 [==============================] - 0s - loss: 0.0680 - threshold_accuracy: 0.3224     \n",
      "Epoch 32/50\n",
      "1153852/1153852 [==============================] - 0s - loss: 0.0678 - threshold_accuracy: 0.3232     \n",
      "Epoch 33/50\n",
      "1153852/1153852 [==============================] - 0s - loss: 0.0680 - threshold_accuracy: 0.3235     \n",
      "Epoch 34/50\n",
      "1153852/1153852 [==============================] - 0s - loss: 0.0680 - threshold_accuracy: 0.3238     \n",
      "Epoch 35/50\n",
      "1153852/1153852 [==============================] - 0s - loss: 0.0681 - threshold_accuracy: 0.3242     \n",
      "Epoch 36/50\n",
      "1153852/1153852 [==============================] - 0s - loss: 0.0675 - threshold_accuracy: 0.3251     \n",
      "Epoch 37/50\n",
      "1153852/1153852 [==============================] - 0s - loss: 0.0672 - threshold_accuracy: 0.3262     \n",
      "Epoch 38/50\n",
      "1153852/1153852 [==============================] - 0s - loss: 0.0674 - threshold_accuracy: 0.3265     \n",
      "Epoch 39/50\n",
      "1153852/1153852 [==============================] - 0s - loss: 0.0670 - threshold_accuracy: 0.3274     \n",
      "Epoch 40/50\n",
      "1153852/1153852 [==============================] - 0s - loss: 0.0671 - threshold_accuracy: 0.3277     \n",
      "Epoch 41/50\n",
      "1153852/1153852 [==============================] - 0s - loss: 0.0669 - threshold_accuracy: 0.3284     \n",
      "Epoch 42/50\n",
      "1153852/1153852 [==============================] - 0s - loss: 0.0671 - threshold_accuracy: 0.3286     \n",
      "Epoch 43/50\n",
      "1153852/1153852 [==============================] - 0s - loss: 0.0667 - threshold_accuracy: 0.3290     \n",
      "Epoch 44/50\n",
      "1153852/1153852 [==============================] - 0s - loss: 0.0665 - threshold_accuracy: 0.3297     \n",
      "Epoch 45/50\n",
      "1153852/1153852 [==============================] - 0s - loss: 0.0663 - threshold_accuracy: 0.3304     \n",
      "Epoch 46/50\n",
      "1153852/1153852 [==============================] - 0s - loss: 0.0672 - threshold_accuracy: 0.3303     \n",
      "Epoch 47/50\n",
      "1153852/1153852 [==============================] - 0s - loss: 0.0665 - threshold_accuracy: 0.3306     \n",
      "Epoch 48/50\n",
      "1153852/1153852 [==============================] - 0s - loss: 0.0661 - threshold_accuracy: 0.3311     \n",
      "Epoch 49/50\n",
      "1153852/1153852 [==============================] - 0s - loss: 0.0662 - threshold_accuracy: 0.3321     \n",
      "Epoch 50/50\n",
      "1153852/1153852 [==============================] - 0s - loss: 0.0660 - threshold_accuracy: 0.3326     \n"
     ]
    },
    {
     "data": {
      "text/plain": [
       "<keras.callbacks.History at 0x7f6c27d90be0>"
      ]
     },
     "execution_count": 31,
     "metadata": {},
     "output_type": "execute_result"
    }
   ],
   "source": [
    "classifier.fit(X_train, Y_train, batch_size = 10000, epochs = 50)"
   ]
  },
  {
   "cell_type": "code",
   "execution_count": null,
   "metadata": {},
   "outputs": [],
   "source": []
  }
 ],
 "metadata": {
  "kernelspec": {
   "display_name": "Python 3",
   "language": "python",
   "name": "python3"
  },
  "language_info": {
   "codemirror_mode": {
    "name": "ipython",
    "version": 3
   },
   "file_extension": ".py",
   "mimetype": "text/x-python",
   "name": "python",
   "nbconvert_exporter": "python",
   "pygments_lexer": "ipython3",
   "version": "3.6.5"
  }
 },
 "nbformat": 4,
 "nbformat_minor": 2
}
