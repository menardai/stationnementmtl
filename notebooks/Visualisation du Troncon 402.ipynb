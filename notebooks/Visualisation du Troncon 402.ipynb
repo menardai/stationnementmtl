{
 "cells": [
  {
   "cell_type": "markdown",
   "metadata": {},
   "source": [
    "# Saint-Denis - entre Sherbrooke et Ontario Est"
   ]
  },
  {
   "cell_type": "markdown",
   "metadata": {},
   "source": [
    "TODO\n",
    " - faire plus de graphiques\n",
    "\n",
    " - (*) fermetures de rues: si occupation a 0% et pas jour ferie, alors remplacer par 100% pcq on veut pas y aller\n",
    " \n",
    " \n",
    " - creer un test set\n",
    " - modele de prediction a partir de la moyenne\n",
    " - calculer l'accuracy d'une prediction a partir de la moyenne sur le test set\n",
    "\n",
    "\n",
    " - developper un modele de prediction selon les valeurs de l'an passe\n",
    " - vendredi entre 20h00 et 21h00, certaines semaines sont a 0% d'occupation. Pour faire des predictions selon les valeurs de l'an passe, il faudrait mettre la moyenne a la place des valeurs a 0 quand a l'interieur des heures tarifees.\n",
    "\n",
    "\n",
    " - correlation avec la meteo?\n",
    " \n",
    " \n",
    " - (faire un champs par evenement et dire on/off pour chaque entree)\n",
    " - correlation avec jour de spectacle (place des arts, osm, tnm, metropolis, club soda, theatre saint-denis)?\n",
    " - correlation avec jour de festival  (jazz, juste pour rire, francofolie)"
   ]
  },
  {
   "cell_type": "markdown",
   "metadata": {},
   "source": [
    "---"
   ]
  },
  {
   "cell_type": "code",
   "execution_count": 2,
   "metadata": {},
   "outputs": [],
   "source": [
    "import numpy as np\n",
    "import matplotlib.pyplot as plt\n",
    "import pandas as pd"
   ]
  },
  {
   "cell_type": "code",
   "execution_count": 3,
   "metadata": {},
   "outputs": [],
   "source": [
    "troncon402 = pd.read_csv('./402 - Saint-Denis entre Sherbrooke et Ontario 2015-2016.csv', sep=';', decimal=\",\")"
   ]
  },
  {
   "cell_type": "markdown",
   "metadata": {},
   "source": [
    "# Get a first look"
   ]
  },
  {
   "cell_type": "code",
   "execution_count": 4,
   "metadata": {},
   "outputs": [
    {
     "data": {
      "text/html": [
       "<div>\n",
       "<style scoped>\n",
       "    .dataframe tbody tr th:only-of-type {\n",
       "        vertical-align: middle;\n",
       "    }\n",
       "\n",
       "    .dataframe tbody tr th {\n",
       "        vertical-align: top;\n",
       "    }\n",
       "\n",
       "    .dataframe thead th {\n",
       "        text-align: right;\n",
       "    }\n",
       "</style>\n",
       "<table border=\"1\" class=\"dataframe\">\n",
       "  <thead>\n",
       "    <tr style=\"text-align: right;\">\n",
       "      <th></th>\n",
       "      <th>NoTroncon</th>\n",
       "      <th>DescriptionTroncon</th>\n",
       "      <th>DateCreation</th>\n",
       "      <th>NoHeure</th>\n",
       "      <th>NbMinDispo</th>\n",
       "      <th>TxOccupation</th>\n",
       "    </tr>\n",
       "  </thead>\n",
       "  <tbody>\n",
       "    <tr>\n",
       "      <th>0</th>\n",
       "      <td>402</td>\n",
       "      <td>Saint-Denis entre Sherbrooke et Ontario - Est</td>\n",
       "      <td>2015-01-01</td>\n",
       "      <td>15</td>\n",
       "      <td>0</td>\n",
       "      <td>0.0</td>\n",
       "    </tr>\n",
       "    <tr>\n",
       "      <th>1</th>\n",
       "      <td>402</td>\n",
       "      <td>Saint-Denis entre Sherbrooke et Ontario - Est</td>\n",
       "      <td>2015-01-01</td>\n",
       "      <td>16</td>\n",
       "      <td>0</td>\n",
       "      <td>0.0</td>\n",
       "    </tr>\n",
       "    <tr>\n",
       "      <th>2</th>\n",
       "      <td>402</td>\n",
       "      <td>Saint-Denis entre Sherbrooke et Ontario - Est</td>\n",
       "      <td>2015-01-01</td>\n",
       "      <td>17</td>\n",
       "      <td>0</td>\n",
       "      <td>0.0</td>\n",
       "    </tr>\n",
       "    <tr>\n",
       "      <th>3</th>\n",
       "      <td>402</td>\n",
       "      <td>Saint-Denis entre Sherbrooke et Ontario - Est</td>\n",
       "      <td>2015-01-01</td>\n",
       "      <td>18</td>\n",
       "      <td>0</td>\n",
       "      <td>0.0</td>\n",
       "    </tr>\n",
       "    <tr>\n",
       "      <th>4</th>\n",
       "      <td>402</td>\n",
       "      <td>Saint-Denis entre Sherbrooke et Ontario - Est</td>\n",
       "      <td>2015-01-01</td>\n",
       "      <td>19</td>\n",
       "      <td>0</td>\n",
       "      <td>0.0</td>\n",
       "    </tr>\n",
       "  </tbody>\n",
       "</table>\n",
       "</div>"
      ],
      "text/plain": [
       "   NoTroncon                             DescriptionTroncon DateCreation  \\\n",
       "0        402  Saint-Denis entre Sherbrooke et Ontario - Est   2015-01-01   \n",
       "1        402  Saint-Denis entre Sherbrooke et Ontario - Est   2015-01-01   \n",
       "2        402  Saint-Denis entre Sherbrooke et Ontario - Est   2015-01-01   \n",
       "3        402  Saint-Denis entre Sherbrooke et Ontario - Est   2015-01-01   \n",
       "4        402  Saint-Denis entre Sherbrooke et Ontario - Est   2015-01-01   \n",
       "\n",
       "   NoHeure  NbMinDispo  TxOccupation  \n",
       "0       15           0           0.0  \n",
       "1       16           0           0.0  \n",
       "2       17           0           0.0  \n",
       "3       18           0           0.0  \n",
       "4       19           0           0.0  "
      ]
     },
     "execution_count": 4,
     "metadata": {},
     "output_type": "execute_result"
    }
   ],
   "source": [
    "troncon402.head()"
   ]
  },
  {
   "cell_type": "code",
   "execution_count": 5,
   "metadata": {},
   "outputs": [
    {
     "data": {
      "text/plain": [
       "7916"
      ]
     },
     "execution_count": 5,
     "metadata": {},
     "output_type": "execute_result"
    }
   ],
   "source": [
    "# number of rows\n",
    "len(troncon402)"
   ]
  },
  {
   "cell_type": "markdown",
   "metadata": {},
   "source": [
    "# Remove columns, change data types"
   ]
  },
  {
   "cell_type": "code",
   "execution_count": 6,
   "metadata": {},
   "outputs": [],
   "source": [
    "# remove some columns\n",
    "troncon402 = troncon402.drop('NoTroncon', 1)\n",
    "troncon402 = troncon402.drop('DescriptionTroncon', 1)"
   ]
  },
  {
   "cell_type": "code",
   "execution_count": 7,
   "metadata": {},
   "outputs": [],
   "source": [
    "# convert NoHeure column from int to category\n",
    "troncon402.NoHeure = troncon402.NoHeure.astype('category')"
   ]
  },
  {
   "cell_type": "code",
   "execution_count": 8,
   "metadata": {},
   "outputs": [],
   "source": [
    "# convert DateCreation from Object to Date\n",
    "troncon402.DateCreation = pd.to_datetime(troncon402['DateCreation'])"
   ]
  },
  {
   "cell_type": "markdown",
   "metadata": {},
   "source": [
    "---"
   ]
  },
  {
   "cell_type": "code",
   "execution_count": 9,
   "metadata": {},
   "outputs": [
    {
     "name": "stdout",
     "output_type": "stream",
     "text": [
      "<class 'pandas.core.frame.DataFrame'>\n",
      "RangeIndex: 7916 entries, 0 to 7915\n",
      "Data columns (total 4 columns):\n",
      "DateCreation    7916 non-null datetime64[ns]\n",
      "NoHeure         7916 non-null category\n",
      "NbMinDispo      7916 non-null int64\n",
      "TxOccupation    7916 non-null float64\n",
      "dtypes: category(1), datetime64[ns](1), float64(1), int64(1)\n",
      "memory usage: 193.7 KB\n"
     ]
    }
   ],
   "source": [
    "troncon402.info()"
   ]
  },
  {
   "cell_type": "markdown",
   "metadata": {},
   "source": [
    "# Removing rows with 0 occupancy rate\n",
    "these row are probably errors or the street has been closed"
   ]
  },
  {
   "cell_type": "code",
   "execution_count": 10,
   "metadata": {},
   "outputs": [],
   "source": [
    "#troncon402 = troncon402[troncon402['TxOccupation'] > 0]"
   ]
  },
  {
   "cell_type": "code",
   "execution_count": 11,
   "metadata": {},
   "outputs": [
    {
     "name": "stdout",
     "output_type": "stream",
     "text": [
      "<class 'pandas.core.frame.DataFrame'>\n",
      "RangeIndex: 7916 entries, 0 to 7915\n",
      "Data columns (total 4 columns):\n",
      "DateCreation    7916 non-null datetime64[ns]\n",
      "NoHeure         7916 non-null category\n",
      "NbMinDispo      7916 non-null int64\n",
      "TxOccupation    7916 non-null float64\n",
      "dtypes: category(1), datetime64[ns](1), float64(1), int64(1)\n",
      "memory usage: 193.7 KB\n"
     ]
    }
   ],
   "source": [
    "troncon402.info()"
   ]
  },
  {
   "cell_type": "markdown",
   "metadata": {},
   "source": [
    "---"
   ]
  },
  {
   "cell_type": "code",
   "execution_count": 12,
   "metadata": {},
   "outputs": [
    {
     "data": {
      "text/html": [
       "<div>\n",
       "<style scoped>\n",
       "    .dataframe tbody tr th:only-of-type {\n",
       "        vertical-align: middle;\n",
       "    }\n",
       "\n",
       "    .dataframe tbody tr th {\n",
       "        vertical-align: top;\n",
       "    }\n",
       "\n",
       "    .dataframe thead th {\n",
       "        text-align: right;\n",
       "    }\n",
       "</style>\n",
       "<table border=\"1\" class=\"dataframe\">\n",
       "  <thead>\n",
       "    <tr style=\"text-align: right;\">\n",
       "      <th></th>\n",
       "      <th>NbMinDispo</th>\n",
       "      <th>TxOccupation</th>\n",
       "    </tr>\n",
       "  </thead>\n",
       "  <tbody>\n",
       "    <tr>\n",
       "      <th>count</th>\n",
       "      <td>7916.000000</td>\n",
       "      <td>7916.000000</td>\n",
       "    </tr>\n",
       "    <tr>\n",
       "      <th>mean</th>\n",
       "      <td>1356.412329</td>\n",
       "      <td>0.409213</td>\n",
       "    </tr>\n",
       "    <tr>\n",
       "      <th>std</th>\n",
       "      <td>237.742305</td>\n",
       "      <td>0.270636</td>\n",
       "    </tr>\n",
       "    <tr>\n",
       "      <th>min</th>\n",
       "      <td>0.000000</td>\n",
       "      <td>0.000000</td>\n",
       "    </tr>\n",
       "    <tr>\n",
       "      <th>25%</th>\n",
       "      <td>1440.000000</td>\n",
       "      <td>0.197900</td>\n",
       "    </tr>\n",
       "    <tr>\n",
       "      <th>50%</th>\n",
       "      <td>1440.000000</td>\n",
       "      <td>0.385750</td>\n",
       "    </tr>\n",
       "    <tr>\n",
       "      <th>75%</th>\n",
       "      <td>1440.000000</td>\n",
       "      <td>0.608475</td>\n",
       "    </tr>\n",
       "    <tr>\n",
       "      <th>max</th>\n",
       "      <td>1440.000000</td>\n",
       "      <td>1.000000</td>\n",
       "    </tr>\n",
       "  </tbody>\n",
       "</table>\n",
       "</div>"
      ],
      "text/plain": [
       "        NbMinDispo  TxOccupation\n",
       "count  7916.000000   7916.000000\n",
       "mean   1356.412329      0.409213\n",
       "std     237.742305      0.270636\n",
       "min       0.000000      0.000000\n",
       "25%    1440.000000      0.197900\n",
       "50%    1440.000000      0.385750\n",
       "75%    1440.000000      0.608475\n",
       "max    1440.000000      1.000000"
      ]
     },
     "execution_count": 12,
     "metadata": {},
     "output_type": "execute_result"
    }
   ],
   "source": [
    "# get stats on the columns\n",
    "troncon402.describe()"
   ]
  },
  {
   "cell_type": "code",
   "execution_count": 13,
   "metadata": {},
   "outputs": [
    {
     "data": {
      "text/html": [
       "<div>\n",
       "<style scoped>\n",
       "    .dataframe tbody tr th:only-of-type {\n",
       "        vertical-align: middle;\n",
       "    }\n",
       "\n",
       "    .dataframe tbody tr th {\n",
       "        vertical-align: top;\n",
       "    }\n",
       "\n",
       "    .dataframe thead th {\n",
       "        text-align: right;\n",
       "    }\n",
       "</style>\n",
       "<table border=\"1\" class=\"dataframe\">\n",
       "  <thead>\n",
       "    <tr style=\"text-align: right;\">\n",
       "      <th></th>\n",
       "      <th>DateCreation</th>\n",
       "      <th>NoHeure</th>\n",
       "      <th>NbMinDispo</th>\n",
       "      <th>TxOccupation</th>\n",
       "    </tr>\n",
       "  </thead>\n",
       "  <tbody>\n",
       "    <tr>\n",
       "      <th>7911</th>\n",
       "      <td>2016-12-31</td>\n",
       "      <td>13</td>\n",
       "      <td>1440</td>\n",
       "      <td>0.0500</td>\n",
       "    </tr>\n",
       "    <tr>\n",
       "      <th>7912</th>\n",
       "      <td>2016-12-31</td>\n",
       "      <td>14</td>\n",
       "      <td>1440</td>\n",
       "      <td>0.1438</td>\n",
       "    </tr>\n",
       "    <tr>\n",
       "      <th>7913</th>\n",
       "      <td>2016-12-31</td>\n",
       "      <td>15</td>\n",
       "      <td>1440</td>\n",
       "      <td>0.1111</td>\n",
       "    </tr>\n",
       "    <tr>\n",
       "      <th>7914</th>\n",
       "      <td>2016-12-31</td>\n",
       "      <td>16</td>\n",
       "      <td>1440</td>\n",
       "      <td>0.0750</td>\n",
       "    </tr>\n",
       "    <tr>\n",
       "      <th>7915</th>\n",
       "      <td>2016-12-31</td>\n",
       "      <td>17</td>\n",
       "      <td>1440</td>\n",
       "      <td>0.0292</td>\n",
       "    </tr>\n",
       "  </tbody>\n",
       "</table>\n",
       "</div>"
      ],
      "text/plain": [
       "     DateCreation NoHeure  NbMinDispo  TxOccupation\n",
       "7911   2016-12-31      13        1440        0.0500\n",
       "7912   2016-12-31      14        1440        0.1438\n",
       "7913   2016-12-31      15        1440        0.1111\n",
       "7914   2016-12-31      16        1440        0.0750\n",
       "7915   2016-12-31      17        1440        0.0292"
      ]
     },
     "execution_count": 13,
     "metadata": {},
     "output_type": "execute_result"
    }
   ],
   "source": [
    "troncon402.tail()"
   ]
  },
  {
   "cell_type": "markdown",
   "metadata": {},
   "source": [
    "---"
   ]
  },
  {
   "cell_type": "markdown",
   "metadata": {},
   "source": [
    "# Add a new column: Day of Week"
   ]
  },
  {
   "cell_type": "code",
   "execution_count": 14,
   "metadata": {},
   "outputs": [],
   "source": [
    "troncon402['DayOfWeek'] = troncon402['DateCreation'].dt.dayofweek"
   ]
  },
  {
   "cell_type": "code",
   "execution_count": 15,
   "metadata": {},
   "outputs": [],
   "source": [
    "days = {0:'Monday', 1:'Tuesday', 2:'Wednesday', 3:'Thursday', 4:'Friday', 5:'Saturday', 6:'Sunday'}\n",
    "\n",
    "troncon402['DayOfWeek'] = troncon402['DayOfWeek'].apply(lambda x: days[x])"
   ]
  },
  {
   "cell_type": "code",
   "execution_count": 16,
   "metadata": {},
   "outputs": [
    {
     "data": {
      "text/html": [
       "<div>\n",
       "<style scoped>\n",
       "    .dataframe tbody tr th:only-of-type {\n",
       "        vertical-align: middle;\n",
       "    }\n",
       "\n",
       "    .dataframe tbody tr th {\n",
       "        vertical-align: top;\n",
       "    }\n",
       "\n",
       "    .dataframe thead th {\n",
       "        text-align: right;\n",
       "    }\n",
       "</style>\n",
       "<table border=\"1\" class=\"dataframe\">\n",
       "  <thead>\n",
       "    <tr style=\"text-align: right;\">\n",
       "      <th></th>\n",
       "      <th>DateCreation</th>\n",
       "      <th>NoHeure</th>\n",
       "      <th>NbMinDispo</th>\n",
       "      <th>TxOccupation</th>\n",
       "      <th>DayOfWeek</th>\n",
       "    </tr>\n",
       "  </thead>\n",
       "  <tbody>\n",
       "    <tr>\n",
       "      <th>100</th>\n",
       "      <td>2015-01-10</td>\n",
       "      <td>15</td>\n",
       "      <td>1440</td>\n",
       "      <td>0.6965</td>\n",
       "      <td>Saturday</td>\n",
       "    </tr>\n",
       "  </tbody>\n",
       "</table>\n",
       "</div>"
      ],
      "text/plain": [
       "    DateCreation NoHeure  NbMinDispo  TxOccupation DayOfWeek\n",
       "100   2015-01-10      15        1440        0.6965  Saturday"
      ]
     },
     "execution_count": 16,
     "metadata": {},
     "output_type": "execute_result"
    }
   ],
   "source": [
    "troncon402[100:101]"
   ]
  },
  {
   "cell_type": "code",
   "execution_count": 24,
   "metadata": {},
   "outputs": [],
   "source": [
    "occupation = troncon402[100:101].iat[0, 3]"
   ]
  },
  {
   "cell_type": "code",
   "execution_count": 25,
   "metadata": {},
   "outputs": [
    {
     "name": "stdout",
     "output_type": "stream",
     "text": [
      "0.6965\n"
     ]
    }
   ],
   "source": [
    "print(occupation)"
   ]
  },
  {
   "cell_type": "code",
   "execution_count": 26,
   "metadata": {},
   "outputs": [
    {
     "name": "stdout",
     "output_type": "stream",
     "text": [
      "<class 'numpy.float64'>\n"
     ]
    }
   ],
   "source": [
    "print(type(occupation))"
   ]
  },
  {
   "cell_type": "markdown",
   "metadata": {},
   "source": [
    "---"
   ]
  },
  {
   "cell_type": "markdown",
   "metadata": {},
   "source": [
    "# 25 novembre 2015"
   ]
  },
  {
   "cell_type": "code",
   "execution_count": 16,
   "metadata": {},
   "outputs": [],
   "source": [
    "OneDay = troncon402[ (troncon402['DateCreation'] == '2015-11-25') ]"
   ]
  },
  {
   "cell_type": "code",
   "execution_count": 17,
   "metadata": {},
   "outputs": [
    {
     "data": {
      "text/html": [
       "<div>\n",
       "<style scoped>\n",
       "    .dataframe tbody tr th:only-of-type {\n",
       "        vertical-align: middle;\n",
       "    }\n",
       "\n",
       "    .dataframe tbody tr th {\n",
       "        vertical-align: top;\n",
       "    }\n",
       "\n",
       "    .dataframe thead th {\n",
       "        text-align: right;\n",
       "    }\n",
       "</style>\n",
       "<table border=\"1\" class=\"dataframe\">\n",
       "  <thead>\n",
       "    <tr style=\"text-align: right;\">\n",
       "      <th></th>\n",
       "      <th>DateCreation</th>\n",
       "      <th>NoHeure</th>\n",
       "      <th>NbMinDispo</th>\n",
       "      <th>TxOccupation</th>\n",
       "      <th>DayOfWeek</th>\n",
       "    </tr>\n",
       "  </thead>\n",
       "  <tbody>\n",
       "    <tr>\n",
       "      <th>3550</th>\n",
       "      <td>2015-11-25</td>\n",
       "      <td>9</td>\n",
       "      <td>1440</td>\n",
       "      <td>0.2389</td>\n",
       "      <td>Wednesday</td>\n",
       "    </tr>\n",
       "    <tr>\n",
       "      <th>3551</th>\n",
       "      <td>2015-11-25</td>\n",
       "      <td>10</td>\n",
       "      <td>1440</td>\n",
       "      <td>0.3674</td>\n",
       "      <td>Wednesday</td>\n",
       "    </tr>\n",
       "    <tr>\n",
       "      <th>3552</th>\n",
       "      <td>2015-11-25</td>\n",
       "      <td>11</td>\n",
       "      <td>1440</td>\n",
       "      <td>0.3389</td>\n",
       "      <td>Wednesday</td>\n",
       "    </tr>\n",
       "    <tr>\n",
       "      <th>3553</th>\n",
       "      <td>2015-11-25</td>\n",
       "      <td>12</td>\n",
       "      <td>1440</td>\n",
       "      <td>0.3465</td>\n",
       "      <td>Wednesday</td>\n",
       "    </tr>\n",
       "    <tr>\n",
       "      <th>3554</th>\n",
       "      <td>2015-11-25</td>\n",
       "      <td>13</td>\n",
       "      <td>1440</td>\n",
       "      <td>0.4063</td>\n",
       "      <td>Wednesday</td>\n",
       "    </tr>\n",
       "    <tr>\n",
       "      <th>3555</th>\n",
       "      <td>2015-11-25</td>\n",
       "      <td>14</td>\n",
       "      <td>1440</td>\n",
       "      <td>0.3785</td>\n",
       "      <td>Wednesday</td>\n",
       "    </tr>\n",
       "    <tr>\n",
       "      <th>3556</th>\n",
       "      <td>2015-11-25</td>\n",
       "      <td>15</td>\n",
       "      <td>1440</td>\n",
       "      <td>0.4993</td>\n",
       "      <td>Wednesday</td>\n",
       "    </tr>\n",
       "    <tr>\n",
       "      <th>3557</th>\n",
       "      <td>2015-11-25</td>\n",
       "      <td>16</td>\n",
       "      <td>1440</td>\n",
       "      <td>0.5389</td>\n",
       "      <td>Wednesday</td>\n",
       "    </tr>\n",
       "    <tr>\n",
       "      <th>3558</th>\n",
       "      <td>2015-11-25</td>\n",
       "      <td>17</td>\n",
       "      <td>1440</td>\n",
       "      <td>0.6174</td>\n",
       "      <td>Wednesday</td>\n",
       "    </tr>\n",
       "    <tr>\n",
       "      <th>3559</th>\n",
       "      <td>2015-11-25</td>\n",
       "      <td>18</td>\n",
       "      <td>1200</td>\n",
       "      <td>0.8158</td>\n",
       "      <td>Wednesday</td>\n",
       "    </tr>\n",
       "    <tr>\n",
       "      <th>3560</th>\n",
       "      <td>2015-11-25</td>\n",
       "      <td>19</td>\n",
       "      <td>1200</td>\n",
       "      <td>0.8192</td>\n",
       "      <td>Wednesday</td>\n",
       "    </tr>\n",
       "    <tr>\n",
       "      <th>3561</th>\n",
       "      <td>2015-11-25</td>\n",
       "      <td>20</td>\n",
       "      <td>1200</td>\n",
       "      <td>0.6942</td>\n",
       "      <td>Wednesday</td>\n",
       "    </tr>\n",
       "  </tbody>\n",
       "</table>\n",
       "</div>"
      ],
      "text/plain": [
       "     DateCreation NoHeure  NbMinDispo  TxOccupation  DayOfWeek\n",
       "3550   2015-11-25       9        1440        0.2389  Wednesday\n",
       "3551   2015-11-25      10        1440        0.3674  Wednesday\n",
       "3552   2015-11-25      11        1440        0.3389  Wednesday\n",
       "3553   2015-11-25      12        1440        0.3465  Wednesday\n",
       "3554   2015-11-25      13        1440        0.4063  Wednesday\n",
       "3555   2015-11-25      14        1440        0.3785  Wednesday\n",
       "3556   2015-11-25      15        1440        0.4993  Wednesday\n",
       "3557   2015-11-25      16        1440        0.5389  Wednesday\n",
       "3558   2015-11-25      17        1440        0.6174  Wednesday\n",
       "3559   2015-11-25      18        1200        0.8158  Wednesday\n",
       "3560   2015-11-25      19        1200        0.8192  Wednesday\n",
       "3561   2015-11-25      20        1200        0.6942  Wednesday"
      ]
     },
     "execution_count": 17,
     "metadata": {},
     "output_type": "execute_result"
    }
   ],
   "source": [
    "OneDay"
   ]
  },
  {
   "cell_type": "code",
   "execution_count": 18,
   "metadata": {},
   "outputs": [
    {
     "data": {
      "image/png": "[encoded data removed]",
      "text/plain": [
       "<Figure size 432x288 with 1 Axes>"
      ]
     },
     "metadata": {},
     "output_type": "display_data"
    }
   ],
   "source": [
    "index = np.arange(len(OneDay))\n",
    "\n",
    "plt.bar(index, OneDay['TxOccupation'], align='center', alpha=0.5)\n",
    "plt.xticks(index, OneDay['NoHeure'])\n",
    "plt.ylabel(\"Taux d'occupation\")\n",
    "plt.xlabel(\"Heure\")\n",
    "plt.title(\"Taux d'occupation - 25-11-2015\")\n",
    "plt.show()"
   ]
  },
  {
   "cell_type": "markdown",
   "metadata": {},
   "source": [
    "---"
   ]
  },
  {
   "cell_type": "markdown",
   "metadata": {},
   "source": [
    "# Mondays 9am"
   ]
  },
  {
   "cell_type": "code",
   "execution_count": 19,
   "metadata": {},
   "outputs": [],
   "source": [
    "AllMonday = troncon402[ (troncon402['DayOfWeek'] == 'Monday') ]"
   ]
  },
  {
   "cell_type": "code",
   "execution_count": 20,
   "metadata": {},
   "outputs": [
    {
     "data": {
      "text/html": [
       "<div>\n",
       "<style scoped>\n",
       "    .dataframe tbody tr th:only-of-type {\n",
       "        vertical-align: middle;\n",
       "    }\n",
       "\n",
       "    .dataframe tbody tr th {\n",
       "        vertical-align: top;\n",
       "    }\n",
       "\n",
       "    .dataframe thead th {\n",
       "        text-align: right;\n",
       "    }\n",
       "</style>\n",
       "<table border=\"1\" class=\"dataframe\">\n",
       "  <thead>\n",
       "    <tr style=\"text-align: right;\">\n",
       "      <th></th>\n",
       "      <th>DateCreation</th>\n",
       "      <th>NoHeure</th>\n",
       "      <th>NbMinDispo</th>\n",
       "      <th>TxOccupation</th>\n",
       "      <th>DayOfWeek</th>\n",
       "    </tr>\n",
       "  </thead>\n",
       "  <tbody>\n",
       "    <tr>\n",
       "      <th>34</th>\n",
       "      <td>2015-01-05</td>\n",
       "      <td>9</td>\n",
       "      <td>1440</td>\n",
       "      <td>0.0465</td>\n",
       "      <td>Monday</td>\n",
       "    </tr>\n",
       "    <tr>\n",
       "      <th>110</th>\n",
       "      <td>2015-01-12</td>\n",
       "      <td>9</td>\n",
       "      <td>1440</td>\n",
       "      <td>0.0507</td>\n",
       "      <td>Monday</td>\n",
       "    </tr>\n",
       "    <tr>\n",
       "      <th>186</th>\n",
       "      <td>2015-01-19</td>\n",
       "      <td>9</td>\n",
       "      <td>1440</td>\n",
       "      <td>0.1340</td>\n",
       "      <td>Monday</td>\n",
       "    </tr>\n",
       "    <tr>\n",
       "      <th>262</th>\n",
       "      <td>2015-01-26</td>\n",
       "      <td>9</td>\n",
       "      <td>1440</td>\n",
       "      <td>0.2125</td>\n",
       "      <td>Monday</td>\n",
       "    </tr>\n",
       "    <tr>\n",
       "      <th>338</th>\n",
       "      <td>2015-02-02</td>\n",
       "      <td>9</td>\n",
       "      <td>1440</td>\n",
       "      <td>0.0313</td>\n",
       "      <td>Monday</td>\n",
       "    </tr>\n",
       "  </tbody>\n",
       "</table>\n",
       "</div>"
      ],
      "text/plain": [
       "    DateCreation NoHeure  NbMinDispo  TxOccupation DayOfWeek\n",
       "34    2015-01-05       9        1440        0.0465    Monday\n",
       "110   2015-01-12       9        1440        0.0507    Monday\n",
       "186   2015-01-19       9        1440        0.1340    Monday\n",
       "262   2015-01-26       9        1440        0.2125    Monday\n",
       "338   2015-02-02       9        1440        0.0313    Monday"
      ]
     },
     "execution_count": 20,
     "metadata": {},
     "output_type": "execute_result"
    }
   ],
   "source": [
    "AllMonday9am = AllMonday[ AllMonday['NoHeure'] == 9 ]\n",
    "AllMonday9am.head()"
   ]
  },
  {
   "cell_type": "markdown",
   "metadata": {},
   "source": [
    "---"
   ]
  },
  {
   "cell_type": "markdown",
   "metadata": {},
   "source": [
    "# Hourly occupancy mean for each day"
   ]
  },
  {
   "cell_type": "code",
   "execution_count": 21,
   "metadata": {},
   "outputs": [],
   "source": [
    "def getOccupancyMeanPerHour(troncon, weekday):\n",
    "    # troncon - DataFrame containing these columns: DateCreation, NoHeure, NbMinDispo, TxOccupation, DayOfWeek\n",
    "    # weekday - [0, 6] -> {0:'Monday', 1:'Tuesday', 2:'Wednesday', 3:'Thursday', 4:'Friday', 5:'Saturday', 6:'Sunday'}\n",
    "    #\n",
    "    # return a one dimension numpy array of shape (12, 1)\n",
    "\n",
    "    specifiedWeekDayList = troncon[ (troncon['DayOfWeek'] == days[weekday]) ]\n",
    "    \n",
    "    hourlyMean = np.zeros(12)  # 12 hours from 9am to 9pm\n",
    "    for i, h in enumerate(range(9,21)):\n",
    "        hourlyMean[i] = np.mean( specifiedWeekDayList[ specifiedWeekDayList['NoHeure'] == h ]['TxOccupation'] )\n",
    "\n",
    "    # convert nan value to zero; On Saturday and Sunday evening as well as Sunday morning there is no parking fees\n",
    "    hourlyMean[np.isnan(hourlyMean)] = 0\n",
    "    \n",
    "    return hourlyMean"
   ]
  },
  {
   "cell_type": "code",
   "execution_count": 22,
   "metadata": {},
   "outputs": [],
   "source": [
    "def getWeekDaysOccupancyMeanPerHour(troncon):\n",
    "    # troncon - DataFrame containing these columns: DateCreation, NoHeure, NbMinDispo, TxOccupation, DayOfWeek\n",
    "    #\n",
    "    # return a two dimensions numpy array of shape (7, 12)\n",
    "\n",
    "    daysList = np.zeros((7,12))\n",
    "    \n",
    "    for weekday in range(7):\n",
    "        daysList[weekday] = getOccupancyMeanPerHour(troncon, weekday)\n",
    "        \n",
    "    return daysList"
   ]
  },
  {
   "cell_type": "markdown",
   "metadata": {},
   "source": [
    "---"
   ]
  },
  {
   "cell_type": "code",
   "execution_count": 23,
   "metadata": {},
   "outputs": [],
   "source": [
    "weekdaysMeanOccupancyPerHour = getWeekDaysOccupancyMeanPerHour(troncon402)"
   ]
  },
  {
   "cell_type": "code",
   "execution_count": 24,
   "metadata": {},
   "outputs": [
    {
     "data": {
      "text/plain": [
       "array([[0.11665865, 0.19884519, 0.24490769, 0.31921827, 0.35884519,\n",
       "        0.35714712, 0.33512115, 0.31256827, 0.302225  , 0.4217875 ,\n",
       "        0.54746058, 0.60487019],\n",
       "       [0.12491923, 0.23850288, 0.30693558, 0.38015577, 0.42406346,\n",
       "        0.40869904, 0.36158365, 0.34157212, 0.39358365, 0.59947981,\n",
       "        0.72311538, 0.71804808],\n",
       "       [0.13936923, 0.25113654, 0.31102885, 0.40741346, 0.44930096,\n",
       "        0.43597404, 0.39790385, 0.36474038, 0.43041346, 0.65166731,\n",
       "        0.74931731, 0.75163558],\n",
       "       [0.13595577, 0.23824135, 0.30186923, 0.41039327, 0.46618654,\n",
       "        0.42536058, 0.36883333, 0.37092286, 0.44491238, 0.6591181 ,\n",
       "        0.73703524, 0.74584095],\n",
       "       [0.12851714, 0.20673429, 0.24921238, 0.33547429, 0.41947238,\n",
       "        0.40036952, 0.35921238, 0.37968571, 0.47690667, 0.69963714,\n",
       "        0.74394   , 0.73018286],\n",
       "       [0.05887619, 0.11734667, 0.16812762, 0.27762667, 0.42530286,\n",
       "        0.52317714, 0.58366095, 0.62897143, 0.69762857, 0.        ,\n",
       "        0.        , 0.        ],\n",
       "       [0.        , 0.        , 0.        , 0.        , 0.41420865,\n",
       "        0.53940192, 0.59100962, 0.54768173, 0.54538365, 0.        ,\n",
       "        0.        , 0.        ]])"
      ]
     },
     "execution_count": 24,
     "metadata": {},
     "output_type": "execute_result"
    }
   ],
   "source": [
    "weekdaysMeanOccupancyPerHour"
   ]
  },
  {
   "cell_type": "code",
   "execution_count": 25,
   "metadata": {},
   "outputs": [
    {
     "data": {
      "text/plain": [
       "0.4240634615384616"
      ]
     },
     "execution_count": 25,
     "metadata": {},
     "output_type": "execute_result"
    }
   ],
   "source": [
    "# print occupancy rate for Tuesday 13h00 to 14h00\n",
    "weekdaysMeanOccupancyPerHour[1, 13-9]"
   ]
  },
  {
   "cell_type": "code",
   "execution_count": 26,
   "metadata": {},
   "outputs": [
    {
     "data": {
      "text/plain": [
       "0.7301828571428571"
      ]
     },
     "execution_count": 26,
     "metadata": {},
     "output_type": "execute_result"
    }
   ],
   "source": [
    "# print occupancy rate for Friday 20h00 to 21h00\n",
    "weekdaysMeanOccupancyPerHour[4, 20-9]"
   ]
  },
  {
   "cell_type": "markdown",
   "metadata": {},
   "source": [
    "---"
   ]
  },
  {
   "cell_type": "code",
   "execution_count": 27,
   "metadata": {},
   "outputs": [],
   "source": [
    "def showGraphOccupancyRate(troncon, weekday, hour):\n",
    "    assert (hour >= 9 and hour <= 20), \"Wrong hour value. Valid values are [9, 20]\"\n",
    "    \n",
    "    df_weekday = troncon[ (troncon['DayOfWeek'] == days[weekday]) ]\n",
    "    df_weekdayHour = df_weekday[ df_weekday['NoHeure'] == hour ]\n",
    "    \n",
    "    index = np.arange(len(df_weekdayHour))\n",
    "    title = \"Taux d'occupation - \" + days[weekday] + \" from \" + str(hour) + \"h00 to \" + str(hour+1) + \"h00\"\n",
    "\n",
    "    plt.figure(figsize=(20, 8))\n",
    "    plt.bar(index, df_weekdayHour['TxOccupation'], align='center', alpha=0.5)\n",
    "    plt.xticks(np.arange(0,len(df_weekdayHour), 4))\n",
    "    plt.ylabel(\"Taux d'occupation\")\n",
    "    plt.xlabel(\"Week Number\")\n",
    "    plt.title(title)\n",
    "    plt.show()\n",
    "    \n",
    "    return df_weekdayHour"
   ]
  },
  {
   "cell_type": "code",
   "execution_count": 30,
   "metadata": {},
   "outputs": [
    {
     "data": {
      "image/png": "[encoded data removed]",
      "text/plain": [
       "<Figure size 1440x576 with 1 Axes>"
      ]
     },
     "metadata": {},
     "output_type": "display_data"
    }
   ],
   "source": [
    "fridays20h = showGraphOccupancyRate(troncon402, weekday=4, hour=20)"
   ]
  },
  {
   "cell_type": "code",
   "execution_count": 31,
   "metadata": {},
   "outputs": [
    {
     "data": {
      "text/html": [
       "<div>\n",
       "<style scoped>\n",
       "    .dataframe tbody tr th:only-of-type {\n",
       "        vertical-align: middle;\n",
       "    }\n",
       "\n",
       "    .dataframe tbody tr th {\n",
       "        vertical-align: top;\n",
       "    }\n",
       "\n",
       "    .dataframe thead th {\n",
       "        text-align: right;\n",
       "    }\n",
       "</style>\n",
       "<table border=\"1\" class=\"dataframe\">\n",
       "  <thead>\n",
       "    <tr style=\"text-align: right;\">\n",
       "      <th></th>\n",
       "      <th>DateCreation</th>\n",
       "      <th>NoHeure</th>\n",
       "      <th>NbMinDispo</th>\n",
       "      <th>TxOccupation</th>\n",
       "      <th>DayOfWeek</th>\n",
       "    </tr>\n",
       "  </thead>\n",
       "  <tbody>\n",
       "    <tr>\n",
       "      <th>1539</th>\n",
       "      <td>2015-05-22</td>\n",
       "      <td>20</td>\n",
       "      <td>1200</td>\n",
       "      <td>0.0000</td>\n",
       "      <td>Friday</td>\n",
       "    </tr>\n",
       "    <tr>\n",
       "      <th>2069</th>\n",
       "      <td>2015-07-10</td>\n",
       "      <td>20</td>\n",
       "      <td>1200</td>\n",
       "      <td>0.1092</td>\n",
       "      <td>Friday</td>\n",
       "    </tr>\n",
       "    <tr>\n",
       "      <th>2751</th>\n",
       "      <td>2015-09-11</td>\n",
       "      <td>20</td>\n",
       "      <td>1200</td>\n",
       "      <td>0.0000</td>\n",
       "      <td>Friday</td>\n",
       "    </tr>\n",
       "    <tr>\n",
       "      <th>3661</th>\n",
       "      <td>2015-12-04</td>\n",
       "      <td>20</td>\n",
       "      <td>1200</td>\n",
       "      <td>0.0500</td>\n",
       "      <td>Friday</td>\n",
       "    </tr>\n",
       "    <tr>\n",
       "      <th>3887</th>\n",
       "      <td>2015-12-25</td>\n",
       "      <td>20</td>\n",
       "      <td>1200</td>\n",
       "      <td>0.0500</td>\n",
       "      <td>Friday</td>\n",
       "    </tr>\n",
       "    <tr>\n",
       "      <th>5332</th>\n",
       "      <td>2016-05-06</td>\n",
       "      <td>20</td>\n",
       "      <td>1200</td>\n",
       "      <td>0.0500</td>\n",
       "      <td>Friday</td>\n",
       "    </tr>\n",
       "    <tr>\n",
       "      <th>5559</th>\n",
       "      <td>2016-05-27</td>\n",
       "      <td>20</td>\n",
       "      <td>1200</td>\n",
       "      <td>0.0500</td>\n",
       "      <td>Friday</td>\n",
       "    </tr>\n",
       "    <tr>\n",
       "      <th>5862</th>\n",
       "      <td>2016-06-24</td>\n",
       "      <td>20</td>\n",
       "      <td>1200</td>\n",
       "      <td>0.0000</td>\n",
       "      <td>Friday</td>\n",
       "    </tr>\n",
       "    <tr>\n",
       "      <th>5938</th>\n",
       "      <td>2016-07-01</td>\n",
       "      <td>20</td>\n",
       "      <td>1200</td>\n",
       "      <td>0.0000</td>\n",
       "      <td>Friday</td>\n",
       "    </tr>\n",
       "    <tr>\n",
       "      <th>6014</th>\n",
       "      <td>2016-07-08</td>\n",
       "      <td>20</td>\n",
       "      <td>1200</td>\n",
       "      <td>0.0000</td>\n",
       "      <td>Friday</td>\n",
       "    </tr>\n",
       "    <tr>\n",
       "      <th>6088</th>\n",
       "      <td>2016-07-15</td>\n",
       "      <td>20</td>\n",
       "      <td>1200</td>\n",
       "      <td>0.0000</td>\n",
       "      <td>Friday</td>\n",
       "    </tr>\n",
       "    <tr>\n",
       "      <th>6694</th>\n",
       "      <td>2016-09-09</td>\n",
       "      <td>20</td>\n",
       "      <td>1200</td>\n",
       "      <td>0.0000</td>\n",
       "      <td>Friday</td>\n",
       "    </tr>\n",
       "  </tbody>\n",
       "</table>\n",
       "</div>"
      ],
      "text/plain": [
       "     DateCreation NoHeure  NbMinDispo  TxOccupation DayOfWeek\n",
       "1539   2015-05-22      20        1200        0.0000    Friday\n",
       "2069   2015-07-10      20        1200        0.1092    Friday\n",
       "2751   2015-09-11      20        1200        0.0000    Friday\n",
       "3661   2015-12-04      20        1200        0.0500    Friday\n",
       "3887   2015-12-25      20        1200        0.0500    Friday\n",
       "5332   2016-05-06      20        1200        0.0500    Friday\n",
       "5559   2016-05-27      20        1200        0.0500    Friday\n",
       "5862   2016-06-24      20        1200        0.0000    Friday\n",
       "5938   2016-07-01      20        1200        0.0000    Friday\n",
       "6014   2016-07-08      20        1200        0.0000    Friday\n",
       "6088   2016-07-15      20        1200        0.0000    Friday\n",
       "6694   2016-09-09      20        1200        0.0000    Friday"
      ]
     },
     "execution_count": 31,
     "metadata": {},
     "output_type": "execute_result"
    }
   ],
   "source": [
    "fridays20h[ fridays20h['TxOccupation'] < 0.2 ]"
   ]
  },
  {
   "cell_type": "code",
   "execution_count": 34,
   "metadata": {},
   "outputs": [
    {
     "data": {
      "image/png": "[encoded data removed]",
      "text/plain": [
       "<Figure size 1440x576 with 1 Axes>"
      ]
     },
     "metadata": {},
     "output_type": "display_data"
    }
   ],
   "source": [
    "fridays9h = showGraphOccupancyRate(troncon402, weekday=4, hour=9)"
   ]
  },
  {
   "cell_type": "code",
   "execution_count": 36,
   "metadata": {},
   "outputs": [
    {
     "data": {
      "text/html": [
       "<div>\n",
       "<style scoped>\n",
       "    .dataframe tbody tr th:only-of-type {\n",
       "        vertical-align: middle;\n",
       "    }\n",
       "\n",
       "    .dataframe tbody tr th {\n",
       "        vertical-align: top;\n",
       "    }\n",
       "\n",
       "    .dataframe thead th {\n",
       "        text-align: right;\n",
       "    }\n",
       "</style>\n",
       "<table border=\"1\" class=\"dataframe\">\n",
       "  <thead>\n",
       "    <tr style=\"text-align: right;\">\n",
       "      <th></th>\n",
       "      <th>DateCreation</th>\n",
       "      <th>NoHeure</th>\n",
       "      <th>NbMinDispo</th>\n",
       "      <th>TxOccupation</th>\n",
       "      <th>DayOfWeek</th>\n",
       "    </tr>\n",
       "  </thead>\n",
       "  <tbody>\n",
       "    <tr>\n",
       "      <th>6</th>\n",
       "      <td>2015-01-02</td>\n",
       "      <td>9</td>\n",
       "      <td>1440</td>\n",
       "      <td>0.0556</td>\n",
       "      <td>Friday</td>\n",
       "    </tr>\n",
       "    <tr>\n",
       "      <th>82</th>\n",
       "      <td>2015-01-09</td>\n",
       "      <td>9</td>\n",
       "      <td>1440</td>\n",
       "      <td>0.0278</td>\n",
       "      <td>Friday</td>\n",
       "    </tr>\n",
       "    <tr>\n",
       "      <th>538</th>\n",
       "      <td>2015-02-20</td>\n",
       "      <td>9</td>\n",
       "      <td>1440</td>\n",
       "      <td>0.0597</td>\n",
       "      <td>Friday</td>\n",
       "    </tr>\n",
       "    <tr>\n",
       "      <th>690</th>\n",
       "      <td>2015-03-06</td>\n",
       "      <td>9</td>\n",
       "      <td>1440</td>\n",
       "      <td>0.0042</td>\n",
       "      <td>Friday</td>\n",
       "    </tr>\n",
       "    <tr>\n",
       "      <th>994</th>\n",
       "      <td>2015-04-03</td>\n",
       "      <td>9</td>\n",
       "      <td>1440</td>\n",
       "      <td>0.0056</td>\n",
       "      <td>Friday</td>\n",
       "    </tr>\n",
       "    <tr>\n",
       "      <th>1528</th>\n",
       "      <td>2015-05-22</td>\n",
       "      <td>9</td>\n",
       "      <td>1440</td>\n",
       "      <td>0.0000</td>\n",
       "      <td>Friday</td>\n",
       "    </tr>\n",
       "    <tr>\n",
       "      <th>1830</th>\n",
       "      <td>2015-06-19</td>\n",
       "      <td>9</td>\n",
       "      <td>1440</td>\n",
       "      <td>0.0569</td>\n",
       "      <td>Friday</td>\n",
       "    </tr>\n",
       "    <tr>\n",
       "      <th>1906</th>\n",
       "      <td>2015-06-26</td>\n",
       "      <td>9</td>\n",
       "      <td>1440</td>\n",
       "      <td>0.0542</td>\n",
       "      <td>Friday</td>\n",
       "    </tr>\n",
       "    <tr>\n",
       "      <th>2058</th>\n",
       "      <td>2015-07-10</td>\n",
       "      <td>9</td>\n",
       "      <td>1440</td>\n",
       "      <td>0.0000</td>\n",
       "      <td>Friday</td>\n",
       "    </tr>\n",
       "    <tr>\n",
       "      <th>2436</th>\n",
       "      <td>2015-08-14</td>\n",
       "      <td>9</td>\n",
       "      <td>1440</td>\n",
       "      <td>0.0521</td>\n",
       "      <td>Friday</td>\n",
       "    </tr>\n",
       "    <tr>\n",
       "      <th>2740</th>\n",
       "      <td>2015-09-11</td>\n",
       "      <td>9</td>\n",
       "      <td>1440</td>\n",
       "      <td>0.0000</td>\n",
       "      <td>Friday</td>\n",
       "    </tr>\n",
       "    <tr>\n",
       "      <th>3043</th>\n",
       "      <td>2015-10-09</td>\n",
       "      <td>9</td>\n",
       "      <td>1440</td>\n",
       "      <td>0.0319</td>\n",
       "      <td>Friday</td>\n",
       "    </tr>\n",
       "    <tr>\n",
       "      <th>3650</th>\n",
       "      <td>2015-12-04</td>\n",
       "      <td>9</td>\n",
       "      <td>1440</td>\n",
       "      <td>0.0000</td>\n",
       "      <td>Friday</td>\n",
       "    </tr>\n",
       "    <tr>\n",
       "      <th>3800</th>\n",
       "      <td>2015-12-18</td>\n",
       "      <td>9</td>\n",
       "      <td>1440</td>\n",
       "      <td>0.0292</td>\n",
       "      <td>Friday</td>\n",
       "    </tr>\n",
       "    <tr>\n",
       "      <th>3876</th>\n",
       "      <td>2015-12-25</td>\n",
       "      <td>9</td>\n",
       "      <td>1440</td>\n",
       "      <td>0.0292</td>\n",
       "      <td>Friday</td>\n",
       "    </tr>\n",
       "    <tr>\n",
       "      <th>3952</th>\n",
       "      <td>2016-01-01</td>\n",
       "      <td>9</td>\n",
       "      <td>1440</td>\n",
       "      <td>0.0000</td>\n",
       "      <td>Friday</td>\n",
       "    </tr>\n",
       "    <tr>\n",
       "      <th>4028</th>\n",
       "      <td>2016-01-08</td>\n",
       "      <td>9</td>\n",
       "      <td>1440</td>\n",
       "      <td>0.0431</td>\n",
       "      <td>Friday</td>\n",
       "    </tr>\n",
       "    <tr>\n",
       "      <th>4180</th>\n",
       "      <td>2016-01-22</td>\n",
       "      <td>9</td>\n",
       "      <td>1440</td>\n",
       "      <td>0.0590</td>\n",
       "      <td>Friday</td>\n",
       "    </tr>\n",
       "    <tr>\n",
       "      <th>4939</th>\n",
       "      <td>2016-04-01</td>\n",
       "      <td>9</td>\n",
       "      <td>1440</td>\n",
       "      <td>0.0472</td>\n",
       "      <td>Friday</td>\n",
       "    </tr>\n",
       "    <tr>\n",
       "      <th>5321</th>\n",
       "      <td>2016-05-06</td>\n",
       "      <td>9</td>\n",
       "      <td>1440</td>\n",
       "      <td>0.0000</td>\n",
       "      <td>Friday</td>\n",
       "    </tr>\n",
       "    <tr>\n",
       "      <th>5548</th>\n",
       "      <td>2016-05-27</td>\n",
       "      <td>9</td>\n",
       "      <td>1440</td>\n",
       "      <td>0.0000</td>\n",
       "      <td>Friday</td>\n",
       "    </tr>\n",
       "    <tr>\n",
       "      <th>5851</th>\n",
       "      <td>2016-06-24</td>\n",
       "      <td>9</td>\n",
       "      <td>1440</td>\n",
       "      <td>0.0000</td>\n",
       "      <td>Friday</td>\n",
       "    </tr>\n",
       "    <tr>\n",
       "      <th>5927</th>\n",
       "      <td>2016-07-01</td>\n",
       "      <td>9</td>\n",
       "      <td>1440</td>\n",
       "      <td>0.0000</td>\n",
       "      <td>Friday</td>\n",
       "    </tr>\n",
       "    <tr>\n",
       "      <th>6077</th>\n",
       "      <td>2016-07-15</td>\n",
       "      <td>9</td>\n",
       "      <td>1440</td>\n",
       "      <td>0.0000</td>\n",
       "      <td>Friday</td>\n",
       "    </tr>\n",
       "    <tr>\n",
       "      <th>6151</th>\n",
       "      <td>2016-07-22</td>\n",
       "      <td>9</td>\n",
       "      <td>1440</td>\n",
       "      <td>0.0569</td>\n",
       "      <td>Friday</td>\n",
       "    </tr>\n",
       "    <tr>\n",
       "      <th>6227</th>\n",
       "      <td>2016-07-29</td>\n",
       "      <td>9</td>\n",
       "      <td>1440</td>\n",
       "      <td>0.0042</td>\n",
       "      <td>Friday</td>\n",
       "    </tr>\n",
       "    <tr>\n",
       "      <th>6303</th>\n",
       "      <td>2016-08-05</td>\n",
       "      <td>9</td>\n",
       "      <td>1440</td>\n",
       "      <td>0.0201</td>\n",
       "      <td>Friday</td>\n",
       "    </tr>\n",
       "    <tr>\n",
       "      <th>6455</th>\n",
       "      <td>2016-08-19</td>\n",
       "      <td>9</td>\n",
       "      <td>1440</td>\n",
       "      <td>0.0167</td>\n",
       "      <td>Friday</td>\n",
       "    </tr>\n",
       "    <tr>\n",
       "      <th>6683</th>\n",
       "      <td>2016-09-09</td>\n",
       "      <td>9</td>\n",
       "      <td>1440</td>\n",
       "      <td>0.0000</td>\n",
       "      <td>Friday</td>\n",
       "    </tr>\n",
       "    <tr>\n",
       "      <th>6833</th>\n",
       "      <td>2016-09-23</td>\n",
       "      <td>9</td>\n",
       "      <td>1440</td>\n",
       "      <td>0.0549</td>\n",
       "      <td>Friday</td>\n",
       "    </tr>\n",
       "    <tr>\n",
       "      <th>7289</th>\n",
       "      <td>2016-11-04</td>\n",
       "      <td>9</td>\n",
       "      <td>1440</td>\n",
       "      <td>0.0417</td>\n",
       "      <td>Friday</td>\n",
       "    </tr>\n",
       "    <tr>\n",
       "      <th>7517</th>\n",
       "      <td>2016-11-25</td>\n",
       "      <td>9</td>\n",
       "      <td>1440</td>\n",
       "      <td>0.0590</td>\n",
       "      <td>Friday</td>\n",
       "    </tr>\n",
       "    <tr>\n",
       "      <th>7593</th>\n",
       "      <td>2016-12-02</td>\n",
       "      <td>9</td>\n",
       "      <td>1440</td>\n",
       "      <td>0.0000</td>\n",
       "      <td>Friday</td>\n",
       "    </tr>\n",
       "    <tr>\n",
       "      <th>7820</th>\n",
       "      <td>2016-12-23</td>\n",
       "      <td>9</td>\n",
       "      <td>1440</td>\n",
       "      <td>0.0313</td>\n",
       "      <td>Friday</td>\n",
       "    </tr>\n",
       "    <tr>\n",
       "      <th>7895</th>\n",
       "      <td>2016-12-30</td>\n",
       "      <td>9</td>\n",
       "      <td>1440</td>\n",
       "      <td>0.0007</td>\n",
       "      <td>Friday</td>\n",
       "    </tr>\n",
       "  </tbody>\n",
       "</table>\n",
       "</div>"
      ],
      "text/plain": [
       "     DateCreation NoHeure  NbMinDispo  TxOccupation DayOfWeek\n",
       "6      2015-01-02       9        1440        0.0556    Friday\n",
       "82     2015-01-09       9        1440        0.0278    Friday\n",
       "538    2015-02-20       9        1440        0.0597    Friday\n",
       "690    2015-03-06       9        1440        0.0042    Friday\n",
       "994    2015-04-03       9        1440        0.0056    Friday\n",
       "1528   2015-05-22       9        1440        0.0000    Friday\n",
       "1830   2015-06-19       9        1440        0.0569    Friday\n",
       "1906   2015-06-26       9        1440        0.0542    Friday\n",
       "2058   2015-07-10       9        1440        0.0000    Friday\n",
       "2436   2015-08-14       9        1440        0.0521    Friday\n",
       "2740   2015-09-11       9        1440        0.0000    Friday\n",
       "3043   2015-10-09       9        1440        0.0319    Friday\n",
       "3650   2015-12-04       9        1440        0.0000    Friday\n",
       "3800   2015-12-18       9        1440        0.0292    Friday\n",
       "3876   2015-12-25       9        1440        0.0292    Friday\n",
       "3952   2016-01-01       9        1440        0.0000    Friday\n",
       "4028   2016-01-08       9        1440        0.0431    Friday\n",
       "4180   2016-01-22       9        1440        0.0590    Friday\n",
       "4939   2016-04-01       9        1440        0.0472    Friday\n",
       "5321   2016-05-06       9        1440        0.0000    Friday\n",
       "5548   2016-05-27       9        1440        0.0000    Friday\n",
       "5851   2016-06-24       9        1440        0.0000    Friday\n",
       "5927   2016-07-01       9        1440        0.0000    Friday\n",
       "6077   2016-07-15       9        1440        0.0000    Friday\n",
       "6151   2016-07-22       9        1440        0.0569    Friday\n",
       "6227   2016-07-29       9        1440        0.0042    Friday\n",
       "6303   2016-08-05       9        1440        0.0201    Friday\n",
       "6455   2016-08-19       9        1440        0.0167    Friday\n",
       "6683   2016-09-09       9        1440        0.0000    Friday\n",
       "6833   2016-09-23       9        1440        0.0549    Friday\n",
       "7289   2016-11-04       9        1440        0.0417    Friday\n",
       "7517   2016-11-25       9        1440        0.0590    Friday\n",
       "7593   2016-12-02       9        1440        0.0000    Friday\n",
       "7820   2016-12-23       9        1440        0.0313    Friday\n",
       "7895   2016-12-30       9        1440        0.0007    Friday"
      ]
     },
     "execution_count": 36,
     "metadata": {},
     "output_type": "execute_result"
    }
   ],
   "source": [
    "fridays9h[ fridays9h['TxOccupation'] < 0.06 ]"
   ]
  },
  {
   "cell_type": "code",
   "execution_count": null,
   "metadata": {},
   "outputs": [],
   "source": []
  },
  {
   "cell_type": "code",
   "execution_count": null,
   "metadata": {},
   "outputs": [],
   "source": []
  }
 ],
 "metadata": {
  "kernelspec": {
   "display_name": "Python 3",
   "language": "python",
   "name": "python3"
  },
  "language_info": {
   "codemirror_mode": {
    "name": "ipython",
    "version": 3
   },
   "file_extension": ".py",
   "mimetype": "text/x-python",
   "name": "python",
   "nbconvert_exporter": "python",
   "pygments_lexer": "ipython3",
   "version": "3.6.5"
  }
 },
 "nbformat": 4,
 "nbformat_minor": 2
}
