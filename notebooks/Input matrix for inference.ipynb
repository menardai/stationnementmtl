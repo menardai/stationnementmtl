{
 "cells": [
  {
   "cell_type": "markdown",
   "metadata": {},
   "source": [
    "# Generate the input matrix for a given date, temperature and rain"
   ]
  },
  {
   "cell_type": "code",
   "execution_count": 1,
   "metadata": {},
   "outputs": [],
   "source": [
    "import numpy as np\n",
    "import pandas as pd\n",
    "\n",
    "import datetime"
   ]
  },
  {
   "cell_type": "markdown",
   "metadata": {},
   "source": [
    "---"
   ]
  },
  {
   "cell_type": "code",
   "execution_count": 2,
   "metadata": {},
   "outputs": [],
   "source": [
    "training_set_df = pd.read_csv('../training_set.csv', sep=';')"
   ]
  },
  {
   "cell_type": "code",
   "execution_count": 3,
   "metadata": {},
   "outputs": [
    {
     "data": {
      "text/html": [
       "<div>\n",
       "<style scoped>\n",
       "    .dataframe tbody tr th:only-of-type {\n",
       "        vertical-align: middle;\n",
       "    }\n",
       "\n",
       "    .dataframe tbody tr th {\n",
       "        vertical-align: top;\n",
       "    }\n",
       "\n",
       "    .dataframe thead th {\n",
       "        text-align: right;\n",
       "    }\n",
       "</style>\n",
       "<table border=\"1\" class=\"dataframe\">\n",
       "  <thead>\n",
       "    <tr style=\"text-align: right;\">\n",
       "      <th></th>\n",
       "      <th>NoTroncon</th>\n",
       "      <th>DateCreation</th>\n",
       "      <th>DayOfYear</th>\n",
       "      <th>DayOfWeek</th>\n",
       "      <th>NoHeure</th>\n",
       "      <th>TxOccupation</th>\n",
       "      <th>CenterLongitude</th>\n",
       "      <th>CenterLatitude</th>\n",
       "      <th>EmplacementCount</th>\n",
       "      <th>Temp</th>\n",
       "      <th>Precip_total_day_mm</th>\n",
       "    </tr>\n",
       "  </thead>\n",
       "  <tbody>\n",
       "    <tr>\n",
       "      <th>0</th>\n",
       "      <td>1</td>\n",
       "      <td>2015-01-02</td>\n",
       "      <td>2</td>\n",
       "      <td>4</td>\n",
       "      <td>9</td>\n",
       "      <td>0.0000</td>\n",
       "      <td>-73.570339</td>\n",
       "      <td>45.507996</td>\n",
       "      <td>17</td>\n",
       "      <td>-11.0</td>\n",
       "      <td>0.1</td>\n",
       "    </tr>\n",
       "    <tr>\n",
       "      <th>1</th>\n",
       "      <td>1</td>\n",
       "      <td>2015-01-02</td>\n",
       "      <td>2</td>\n",
       "      <td>4</td>\n",
       "      <td>10</td>\n",
       "      <td>0.0000</td>\n",
       "      <td>-73.570339</td>\n",
       "      <td>45.507996</td>\n",
       "      <td>17</td>\n",
       "      <td>-11.0</td>\n",
       "      <td>0.1</td>\n",
       "    </tr>\n",
       "    <tr>\n",
       "      <th>2</th>\n",
       "      <td>1</td>\n",
       "      <td>2015-01-02</td>\n",
       "      <td>2</td>\n",
       "      <td>4</td>\n",
       "      <td>11</td>\n",
       "      <td>0.0000</td>\n",
       "      <td>-73.570339</td>\n",
       "      <td>45.507996</td>\n",
       "      <td>17</td>\n",
       "      <td>-11.0</td>\n",
       "      <td>0.1</td>\n",
       "    </tr>\n",
       "    <tr>\n",
       "      <th>3</th>\n",
       "      <td>1</td>\n",
       "      <td>2015-01-02</td>\n",
       "      <td>2</td>\n",
       "      <td>4</td>\n",
       "      <td>12</td>\n",
       "      <td>0.0510</td>\n",
       "      <td>-73.570339</td>\n",
       "      <td>45.507996</td>\n",
       "      <td>17</td>\n",
       "      <td>-10.0</td>\n",
       "      <td>0.1</td>\n",
       "    </tr>\n",
       "    <tr>\n",
       "      <th>4</th>\n",
       "      <td>1</td>\n",
       "      <td>2015-01-02</td>\n",
       "      <td>2</td>\n",
       "      <td>4</td>\n",
       "      <td>13</td>\n",
       "      <td>0.0588</td>\n",
       "      <td>-73.570339</td>\n",
       "      <td>45.507996</td>\n",
       "      <td>17</td>\n",
       "      <td>-12.0</td>\n",
       "      <td>0.1</td>\n",
       "    </tr>\n",
       "  </tbody>\n",
       "</table>\n",
       "</div>"
      ],
      "text/plain": [
       "   NoTroncon DateCreation  DayOfYear  DayOfWeek  NoHeure  TxOccupation  \\\n",
       "0          1   2015-01-02          2          4        9        0.0000   \n",
       "1          1   2015-01-02          2          4       10        0.0000   \n",
       "2          1   2015-01-02          2          4       11        0.0000   \n",
       "3          1   2015-01-02          2          4       12        0.0510   \n",
       "4          1   2015-01-02          2          4       13        0.0588   \n",
       "\n",
       "   CenterLongitude  CenterLatitude  EmplacementCount  Temp  \\\n",
       "0       -73.570339       45.507996                17 -11.0   \n",
       "1       -73.570339       45.507996                17 -11.0   \n",
       "2       -73.570339       45.507996                17 -11.0   \n",
       "3       -73.570339       45.507996                17 -10.0   \n",
       "4       -73.570339       45.507996                17 -12.0   \n",
       "\n",
       "   Precip_total_day_mm  \n",
       "0                  0.1  \n",
       "1                  0.1  \n",
       "2                  0.1  \n",
       "3                  0.1  \n",
       "4                  0.1  "
      ]
     },
     "execution_count": 3,
     "metadata": {},
     "output_type": "execute_result"
    }
   ],
   "source": [
    "training_set_df.head()"
   ]
  },
  {
   "cell_type": "code",
   "execution_count": 4,
   "metadata": {},
   "outputs": [],
   "source": [
    "section_list = training_set_df['NoTroncon'].unique()"
   ]
  },
  {
   "cell_type": "code",
   "execution_count": 5,
   "metadata": {},
   "outputs": [
    {
     "name": "stdout",
     "output_type": "stream",
     "text": [
      "[   1    2    3    4    5    6    7    8   10   12   19   20   21   25\n",
      "   26   27   28   29   30   33  155  156  182  204  205  358  359  360\n",
      "  361  362  363  364  365  366  367  402  403  404  406  407  408  409\n",
      "  410  411  414  415  561  562  563  564  574  585  598  599  612  613\n",
      "  614  615  616  617  618  619  620  621  890  891  892  893  894  895\n",
      "  896  897  898  899  901  902  903  904  905  907  908  909  910  912\n",
      "  913  914  915  916 1378 1379 1417 1419 1420 1436 1437 1438 1439 1457\n",
      " 1458 1461 1462 1463 1464 1465 1466 1512 1529 1559 1567 1568 1592 1593\n",
      " 1595 1596 1622 1623 1624 1625 1686 2020 2028 2031 2034 2038 2039 2276\n",
      " 2284 2375 2578 2592 2593 2594 2595 2601 2612 2613 2618 2619 2626 2627\n",
      " 2628 2716 2717 2718 2719 2720 2721 2732 2770 2771 2772 2773 2774 2775\n",
      " 2781 2821 2874 2918 2919]\n"
     ]
    }
   ],
   "source": [
    "print(section_list)"
   ]
  },
  {
   "cell_type": "markdown",
   "metadata": {},
   "source": [
    "---"
   ]
  },
  {
   "cell_type": "code",
   "execution_count": 6,
   "metadata": {},
   "outputs": [],
   "source": [
    "section_spot_gps = pd.read_csv('../section_emplacement_gps.csv', sep=';')"
   ]
  },
  {
   "cell_type": "code",
   "execution_count": 7,
   "metadata": {},
   "outputs": [
    {
     "data": {
      "text/html": [
       "<div>\n",
       "<style scoped>\n",
       "    .dataframe tbody tr th:only-of-type {\n",
       "        vertical-align: middle;\n",
       "    }\n",
       "\n",
       "    .dataframe tbody tr th {\n",
       "        vertical-align: top;\n",
       "    }\n",
       "\n",
       "    .dataframe thead th {\n",
       "        text-align: right;\n",
       "    }\n",
       "</style>\n",
       "<table border=\"1\" class=\"dataframe\">\n",
       "  <thead>\n",
       "    <tr style=\"text-align: right;\">\n",
       "      <th></th>\n",
       "      <th>NoTroncon</th>\n",
       "      <th>CenterLongitude</th>\n",
       "      <th>CenterLatitude</th>\n",
       "      <th>EmplacementCount</th>\n",
       "      <th>sNoEmplacement</th>\n",
       "      <th>longitude</th>\n",
       "      <th>latitude</th>\n",
       "    </tr>\n",
       "  </thead>\n",
       "  <tbody>\n",
       "    <tr>\n",
       "      <th>0</th>\n",
       "      <td>1</td>\n",
       "      <td>-73.570339</td>\n",
       "      <td>45.507996</td>\n",
       "      <td>17</td>\n",
       "      <td>G406</td>\n",
       "      <td>-73.571028</td>\n",
       "      <td>45.508322</td>\n",
       "    </tr>\n",
       "    <tr>\n",
       "      <th>1</th>\n",
       "      <td>1</td>\n",
       "      <td>-73.570339</td>\n",
       "      <td>45.507996</td>\n",
       "      <td>17</td>\n",
       "      <td>G408</td>\n",
       "      <td>-73.570925</td>\n",
       "      <td>45.508273</td>\n",
       "    </tr>\n",
       "    <tr>\n",
       "      <th>2</th>\n",
       "      <td>1</td>\n",
       "      <td>-73.570339</td>\n",
       "      <td>45.507996</td>\n",
       "      <td>17</td>\n",
       "      <td>G409</td>\n",
       "      <td>-73.570889</td>\n",
       "      <td>45.508256</td>\n",
       "    </tr>\n",
       "    <tr>\n",
       "      <th>3</th>\n",
       "      <td>1</td>\n",
       "      <td>-73.570339</td>\n",
       "      <td>45.507996</td>\n",
       "      <td>17</td>\n",
       "      <td>G411</td>\n",
       "      <td>-73.570721</td>\n",
       "      <td>45.508175</td>\n",
       "    </tr>\n",
       "    <tr>\n",
       "      <th>4</th>\n",
       "      <td>1</td>\n",
       "      <td>-73.570339</td>\n",
       "      <td>45.507996</td>\n",
       "      <td>17</td>\n",
       "      <td>G412</td>\n",
       "      <td>-73.570619</td>\n",
       "      <td>45.508130</td>\n",
       "    </tr>\n",
       "  </tbody>\n",
       "</table>\n",
       "</div>"
      ],
      "text/plain": [
       "   NoTroncon  CenterLongitude  CenterLatitude  EmplacementCount  \\\n",
       "0          1       -73.570339       45.507996                17   \n",
       "1          1       -73.570339       45.507996                17   \n",
       "2          1       -73.570339       45.507996                17   \n",
       "3          1       -73.570339       45.507996                17   \n",
       "4          1       -73.570339       45.507996                17   \n",
       "\n",
       "  sNoEmplacement  longitude   latitude  \n",
       "0           G406 -73.571028  45.508322  \n",
       "1           G408 -73.570925  45.508273  \n",
       "2           G409 -73.570889  45.508256  \n",
       "3           G411 -73.570721  45.508175  \n",
       "4           G412 -73.570619  45.508130  "
      ]
     },
     "execution_count": 7,
     "metadata": {},
     "output_type": "execute_result"
    }
   ],
   "source": [
    "section_spot_gps.head()"
   ]
  },
  {
   "cell_type": "code",
   "execution_count": 8,
   "metadata": {},
   "outputs": [],
   "source": [
    "section_gps = section_spot_gps[['NoTroncon', 'CenterLongitude', 'CenterLatitude', 'EmplacementCount']].copy()\n",
    "section_gps.drop_duplicates(keep='first', inplace=True)"
   ]
  },
  {
   "cell_type": "code",
   "execution_count": 9,
   "metadata": {},
   "outputs": [
    {
     "data": {
      "text/html": [
       "<div>\n",
       "<style scoped>\n",
       "    .dataframe tbody tr th:only-of-type {\n",
       "        vertical-align: middle;\n",
       "    }\n",
       "\n",
       "    .dataframe tbody tr th {\n",
       "        vertical-align: top;\n",
       "    }\n",
       "\n",
       "    .dataframe thead th {\n",
       "        text-align: right;\n",
       "    }\n",
       "</style>\n",
       "<table border=\"1\" class=\"dataframe\">\n",
       "  <thead>\n",
       "    <tr style=\"text-align: right;\">\n",
       "      <th></th>\n",
       "      <th>NoTroncon</th>\n",
       "      <th>CenterLongitude</th>\n",
       "      <th>CenterLatitude</th>\n",
       "      <th>EmplacementCount</th>\n",
       "    </tr>\n",
       "  </thead>\n",
       "  <tbody>\n",
       "    <tr>\n",
       "      <th>0</th>\n",
       "      <td>1</td>\n",
       "      <td>-73.570339</td>\n",
       "      <td>45.507996</td>\n",
       "      <td>17</td>\n",
       "    </tr>\n",
       "    <tr>\n",
       "      <th>17</th>\n",
       "      <td>2</td>\n",
       "      <td>-73.570659</td>\n",
       "      <td>45.507961</td>\n",
       "      <td>10</td>\n",
       "    </tr>\n",
       "    <tr>\n",
       "      <th>27</th>\n",
       "      <td>3</td>\n",
       "      <td>-73.569128</td>\n",
       "      <td>45.507425</td>\n",
       "      <td>6</td>\n",
       "    </tr>\n",
       "    <tr>\n",
       "      <th>33</th>\n",
       "      <td>4</td>\n",
       "      <td>-73.569857</td>\n",
       "      <td>45.507581</td>\n",
       "      <td>5</td>\n",
       "    </tr>\n",
       "    <tr>\n",
       "      <th>38</th>\n",
       "      <td>5</td>\n",
       "      <td>-73.568403</td>\n",
       "      <td>45.507083</td>\n",
       "      <td>8</td>\n",
       "    </tr>\n",
       "  </tbody>\n",
       "</table>\n",
       "</div>"
      ],
      "text/plain": [
       "    NoTroncon  CenterLongitude  CenterLatitude  EmplacementCount\n",
       "0           1       -73.570339       45.507996                17\n",
       "17          2       -73.570659       45.507961                10\n",
       "27          3       -73.569128       45.507425                 6\n",
       "33          4       -73.569857       45.507581                 5\n",
       "38          5       -73.568403       45.507083                 8"
      ]
     },
     "execution_count": 9,
     "metadata": {},
     "output_type": "execute_result"
    }
   ],
   "source": [
    "section_gps.head()"
   ]
  },
  {
   "cell_type": "code",
   "execution_count": 10,
   "metadata": {},
   "outputs": [
    {
     "data": {
      "text/plain": [
       "159"
      ]
     },
     "execution_count": 10,
     "metadata": {},
     "output_type": "execute_result"
    }
   ],
   "source": [
    "len(section_gps)"
   ]
  },
  {
   "cell_type": "markdown",
   "metadata": {},
   "source": [
    "---"
   ]
  },
  {
   "cell_type": "code",
   "execution_count": 11,
   "metadata": {},
   "outputs": [],
   "source": [
    "def get_input_matrix(date_str, temperature, rain_mm, section_list):    \n",
    "    # extract day of year and day of week from date string\n",
    "    date = datetime.date(*map(int, date_str.split('-')))\n",
    "    day_of_year = date.timetuple().tm_yday\n",
    "    day_of_week = date.timetuple().tm_wday\n",
    "    \n",
    "    rows_list = []\n",
    "    \n",
    "    for section_id in section_list:\n",
    "        # get CenterLongitude, CenterLattitude, EmplacementCount for the given section id\n",
    "        section_gps_row = section_gps.loc[section_gps['NoTroncon'] == section_id]\n",
    "        \n",
    "        hour_range = range(9, 22) if 0 <= day_of_week <= 4 else range(9, 18)\n",
    "        for hour in hour_range:\n",
    "            rows_list.append({\n",
    "                'DayOfYear': day_of_year,\n",
    "                'DayOfWeek': day_of_week,\n",
    "                'NoHeure': hour,\n",
    "                'CenterLongitude': section_gps_row.iat[0,1],\n",
    "                'CenterLatitude': section_gps_row.iat[0,2],\n",
    "                'EmplacementCount': section_gps_row.iat[0,3],\n",
    "                'Temp': temperature,\n",
    "                'Precip_total_day_mm': rain_mm\n",
    "            })\n",
    "\n",
    "    # create data frame from row list and reorder the columns\n",
    "    input_matrix_df = pd.DataFrame(rows_list)\n",
    "    input_matrix_df = input_matrix_df[['DayOfYear', 'DayOfWeek', 'NoHeure', 'CenterLongitude', 'CenterLatitude', \n",
    "                                       'EmplacementCount', 'Temp', 'Precip_total_day_mm']]\n",
    "    \n",
    "    return input_matrix_df"
   ]
  },
  {
   "cell_type": "code",
   "execution_count": 12,
   "metadata": {},
   "outputs": [],
   "source": [
    "input_matrix_df = get_input_matrix(\"2015-01-02\", -10, 0.5, section_list)"
   ]
  },
  {
   "cell_type": "code",
   "execution_count": 13,
   "metadata": {},
   "outputs": [
    {
     "data": {
      "text/html": [
       "<div>\n",
       "<style scoped>\n",
       "    .dataframe tbody tr th:only-of-type {\n",
       "        vertical-align: middle;\n",
       "    }\n",
       "\n",
       "    .dataframe tbody tr th {\n",
       "        vertical-align: top;\n",
       "    }\n",
       "\n",
       "    .dataframe thead th {\n",
       "        text-align: right;\n",
       "    }\n",
       "</style>\n",
       "<table border=\"1\" class=\"dataframe\">\n",
       "  <thead>\n",
       "    <tr style=\"text-align: right;\">\n",
       "      <th></th>\n",
       "      <th>DayOfYear</th>\n",
       "      <th>DayOfWeek</th>\n",
       "      <th>NoHeure</th>\n",
       "      <th>CenterLongitude</th>\n",
       "      <th>CenterLatitude</th>\n",
       "      <th>EmplacementCount</th>\n",
       "      <th>Temp</th>\n",
       "      <th>Precip_total_day_mm</th>\n",
       "    </tr>\n",
       "  </thead>\n",
       "  <tbody>\n",
       "    <tr>\n",
       "      <th>0</th>\n",
       "      <td>2</td>\n",
       "      <td>4</td>\n",
       "      <td>9</td>\n",
       "      <td>-73.570339</td>\n",
       "      <td>45.507996</td>\n",
       "      <td>17</td>\n",
       "      <td>-10</td>\n",
       "      <td>0.5</td>\n",
       "    </tr>\n",
       "    <tr>\n",
       "      <th>1</th>\n",
       "      <td>2</td>\n",
       "      <td>4</td>\n",
       "      <td>10</td>\n",
       "      <td>-73.570339</td>\n",
       "      <td>45.507996</td>\n",
       "      <td>17</td>\n",
       "      <td>-10</td>\n",
       "      <td>0.5</td>\n",
       "    </tr>\n",
       "    <tr>\n",
       "      <th>2</th>\n",
       "      <td>2</td>\n",
       "      <td>4</td>\n",
       "      <td>11</td>\n",
       "      <td>-73.570339</td>\n",
       "      <td>45.507996</td>\n",
       "      <td>17</td>\n",
       "      <td>-10</td>\n",
       "      <td>0.5</td>\n",
       "    </tr>\n",
       "    <tr>\n",
       "      <th>3</th>\n",
       "      <td>2</td>\n",
       "      <td>4</td>\n",
       "      <td>12</td>\n",
       "      <td>-73.570339</td>\n",
       "      <td>45.507996</td>\n",
       "      <td>17</td>\n",
       "      <td>-10</td>\n",
       "      <td>0.5</td>\n",
       "    </tr>\n",
       "    <tr>\n",
       "      <th>4</th>\n",
       "      <td>2</td>\n",
       "      <td>4</td>\n",
       "      <td>13</td>\n",
       "      <td>-73.570339</td>\n",
       "      <td>45.507996</td>\n",
       "      <td>17</td>\n",
       "      <td>-10</td>\n",
       "      <td>0.5</td>\n",
       "    </tr>\n",
       "  </tbody>\n",
       "</table>\n",
       "</div>"
      ],
      "text/plain": [
       "   DayOfYear  DayOfWeek  NoHeure  CenterLongitude  CenterLatitude  \\\n",
       "0          2          4        9       -73.570339       45.507996   \n",
       "1          2          4       10       -73.570339       45.507996   \n",
       "2          2          4       11       -73.570339       45.507996   \n",
       "3          2          4       12       -73.570339       45.507996   \n",
       "4          2          4       13       -73.570339       45.507996   \n",
       "\n",
       "   EmplacementCount  Temp  Precip_total_day_mm  \n",
       "0                17   -10                  0.5  \n",
       "1                17   -10                  0.5  \n",
       "2                17   -10                  0.5  \n",
       "3                17   -10                  0.5  \n",
       "4                17   -10                  0.5  "
      ]
     },
     "execution_count": 13,
     "metadata": {},
     "output_type": "execute_result"
    }
   ],
   "source": [
    "input_matrix_df.head()"
   ]
  },
  {
   "cell_type": "code",
   "execution_count": 14,
   "metadata": {},
   "outputs": [
    {
     "data": {
      "text/plain": [
       "2067"
      ]
     },
     "execution_count": 14,
     "metadata": {},
     "output_type": "execute_result"
    }
   ],
   "source": [
    "len(input_matrix_df)"
   ]
  },
  {
   "cell_type": "code",
   "execution_count": 15,
   "metadata": {},
   "outputs": [
    {
     "name": "stdout",
     "output_type": "stream",
     "text": [
      "<class 'pandas.core.frame.DataFrame'>\n",
      "RangeIndex: 2067 entries, 0 to 2066\n",
      "Data columns (total 8 columns):\n",
      "DayOfYear              2067 non-null int64\n",
      "DayOfWeek              2067 non-null int64\n",
      "NoHeure                2067 non-null int64\n",
      "CenterLongitude        2067 non-null float64\n",
      "CenterLatitude         2067 non-null float64\n",
      "EmplacementCount       2067 non-null int64\n",
      "Temp                   2067 non-null int64\n",
      "Precip_total_day_mm    2067 non-null float64\n",
      "dtypes: float64(3), int64(5)\n",
      "memory usage: 129.3 KB\n"
     ]
    }
   ],
   "source": [
    "input_matrix_df.info()"
   ]
  },
  {
   "cell_type": "markdown",
   "metadata": {},
   "source": [
    "---"
   ]
  },
  {
   "cell_type": "code",
   "execution_count": 16,
   "metadata": {},
   "outputs": [
    {
     "data": {
      "text/plain": [
       "array([[  2. ,   4. ,   9. , ...,  17. , -10. ,   0.5],\n",
       "       [  2. ,   4. ,  10. , ...,  17. , -10. ,   0.5],\n",
       "       [  2. ,   4. ,  11. , ...,  17. , -10. ,   0.5],\n",
       "       ...,\n",
       "       [  2. ,   4. ,  19. , ...,   2. , -10. ,   0.5],\n",
       "       [  2. ,   4. ,  20. , ...,   2. , -10. ,   0.5],\n",
       "       [  2. ,   4. ,  21. , ...,   2. , -10. ,   0.5]])"
      ]
     },
     "execution_count": 16,
     "metadata": {},
     "output_type": "execute_result"
    }
   ],
   "source": [
    "input_matrix_df.values"
   ]
  },
  {
   "cell_type": "code",
   "execution_count": 17,
   "metadata": {},
   "outputs": [
    {
     "data": {
      "text/plain": [
       "(2067, 8)"
      ]
     },
     "execution_count": 17,
     "metadata": {},
     "output_type": "execute_result"
    }
   ],
   "source": [
    "input_matrix_df.values.shape"
   ]
  },
  {
   "cell_type": "code",
   "execution_count": null,
   "metadata": {},
   "outputs": [],
   "source": []
  }
 ],
 "metadata": {
  "kernelspec": {
   "display_name": "Python 3",
   "language": "python",
   "name": "python3"
  },
  "language_info": {
   "codemirror_mode": {
    "name": "ipython",
    "version": 3
   },
   "file_extension": ".py",
   "mimetype": "text/x-python",
   "name": "python",
   "nbconvert_exporter": "python",
   "pygments_lexer": "ipython3",
   "version": "3.6.5"
  }
 },
 "nbformat": 4,
 "nbformat_minor": 2
}
